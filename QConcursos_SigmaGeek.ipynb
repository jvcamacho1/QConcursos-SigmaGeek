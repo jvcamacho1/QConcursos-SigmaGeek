{
  "cells": [
    {
      "cell_type": "markdown",
      "metadata": {
        "id": "view-in-github",
        "colab_type": "text"
      },
      "source": [
        "<a href=\"https://colab.research.google.com/github/jvcamacho1/QConcursos-SigmaGeek/blob/main/QConcursos_SigmaGeek.ipynb\" target=\"_parent\"><img src=\"https://colab.research.google.com/assets/colab-badge.svg\" alt=\"Open In Colab\"/></a>"
      ]
    },
    {
      "cell_type": "code",
      "execution_count": 1,
      "metadata": {
        "colab": {
          "base_uri": "https://localhost:8080/"
        },
        "id": "6yhcZYghcUFN",
        "outputId": "92fac18f-538e-438c-d622-608cd4357160"
      },
      "outputs": [
        {
          "output_type": "stream",
          "name": "stdout",
          "text": [
            "Mounted at /content/drive\n"
          ]
        }
      ],
      "source": [
        "import pandas as pd\n",
        "from google.colab import drive\n",
        "import seaborn as sns\n",
        "drive.mount('/content/drive')"
      ]
    },
    {
      "cell_type": "markdown",
      "metadata": {
        "id": "tsXq5Uqf2JOU"
      },
      "source": [
        "##1- Understading the Data\n",
        "Looking for unique values in the data, for future classification and normalization"
      ]
    },
    {
      "cell_type": "code",
      "execution_count": 59,
      "metadata": {
        "id": "kzAKt9DJcgba"
      },
      "outputs": [],
      "source": [
        "#df_model = pd.read_csv('/content/drive/MyDrive/Sigma/QConcursos/Dataset_model.csv')\n",
        "df_model = pd.read_csv('/content/drive/MyDrive/Sigma/QConcursos/Dataset_model_processado.csv')\n",
        "#subjects = pd.read_csv('/content/drive/MyDrive/Sigma/QConcursos/subjects_questions.csv')"
      ]
    },
    {
      "cell_type": "code",
      "execution_count": 60,
      "metadata": {
        "id": "eHfxmy74PRbY"
      },
      "outputs": [],
      "source": [
        "#df_model['subject_id'] = subjects['subject_id']"
      ]
    },
    {
      "cell_type": "code",
      "execution_count": 61,
      "metadata": {
        "colab": {
          "base_uri": "https://localhost:8080/",
          "height": 0
        },
        "id": "8GVLfRN--z5O",
        "outputId": "31676e9c-d091-4fda-aa0e-7e83e05ce057"
      },
      "outputs": [
        {
          "output_type": "execute_result",
          "data": {
            "text/plain": [
              "         Unnamed: 0  novo_user_id       acertou  commented_by_professor  \\\n",
              "count  1.994846e+06  1.994846e+06  1.994846e+06            1.994668e+06   \n",
              "mean   1.000387e+06  1.000438e+04  6.546420e-01            5.547384e-01   \n",
              "std    5.773282e+05  5.773282e+03  4.754850e-01            4.969948e-01   \n",
              "min    0.000000e+00  1.000000e+00  0.000000e+00            0.000000e+00   \n",
              "25%    5.004392e+05  5.005000e+03  0.000000e+00            0.000000e+00   \n",
              "50%    1.000610e+06  1.000700e+04  1.000000e+00            1.000000e+00   \n",
              "75%    1.500390e+06  1.500400e+04  1.000000e+00            1.000000e+00   \n",
              "max    1.999999e+06  2.000000e+04  1.000000e+00            1.000000e+00   \n",
              "\n",
              "         difficulty  discipline_id  examining_board_id  institute_id  \\\n",
              "count  1.992218e+06   1.994668e+06        1.994664e+06  1.994664e+06   \n",
              "mean   1.998077e+00   7.164762e+01        1.818385e+02  4.532343e+03   \n",
              "std    8.537872e-01   1.370736e+02        3.342811e+02  2.904568e+03   \n",
              "min    1.000000e+00   1.000000e+00        1.000000e+00  1.000000e+00   \n",
              "25%    1.000000e+00   2.000000e+00        2.000000e+00  8.350000e+02   \n",
              "50%    2.000000e+00   9.000000e+00        6.300000e+01  5.782000e+03   \n",
              "75%    3.000000e+00   5.300000e+01        2.070000e+02  6.260000e+03   \n",
              "max    5.000000e+00   5.930000e+02        3.851000e+03  1.027800e+04   \n",
              "\n",
              "       knowledge_area_id   modality_id      outdated  scholarity_id  \\\n",
              "count       1.994668e+06  1.994668e+06  1.994668e+06   1.994668e+06   \n",
              "mean        1.587963e+01  1.247089e+00  1.785761e-02   2.636609e+00   \n",
              "std         3.041407e+01  4.313189e-01  1.324338e-01   5.235831e-01   \n",
              "min         1.000000e+00  1.000000e+00  0.000000e+00   1.000000e+00   \n",
              "25%         9.000000e+00  1.000000e+00  0.000000e+00   2.000000e+00   \n",
              "50%         9.000000e+00  1.000000e+00  0.000000e+00   3.000000e+00   \n",
              "75%         1.400000e+01  1.000000e+00  0.000000e+00   3.000000e+00   \n",
              "max         3.250000e+02  2.000000e+00  1.000000e+00   3.000000e+00   \n",
              "\n",
              "       novo_question_id    score_user  score_questao  \n",
              "count      1.994846e+06  1.994746e+06   1.994846e+06  \n",
              "mean       2.671055e+05  6.529998e+01   4.720920e+01  \n",
              "std        1.354971e+05  1.264567e+01   3.106612e+01  \n",
              "min        1.000000e+00  1.200000e+01   0.000000e+00  \n",
              "25%        1.642860e+05  5.700000e+01   1.700000e+01  \n",
              "50%        2.708670e+05  6.600000e+01   5.200000e+01  \n",
              "75%        3.716970e+05  7.400000e+01   7.300000e+01  \n",
              "max        5.006940e+05  9.900000e+01   9.900000e+01  "
            ],
            "text/html": [
              "\n",
              "  <div id=\"df-4936ae3f-3700-4b45-b482-888e6c0cac88\">\n",
              "    <div class=\"colab-df-container\">\n",
              "      <div>\n",
              "<style scoped>\n",
              "    .dataframe tbody tr th:only-of-type {\n",
              "        vertical-align: middle;\n",
              "    }\n",
              "\n",
              "    .dataframe tbody tr th {\n",
              "        vertical-align: top;\n",
              "    }\n",
              "\n",
              "    .dataframe thead th {\n",
              "        text-align: right;\n",
              "    }\n",
              "</style>\n",
              "<table border=\"1\" class=\"dataframe\">\n",
              "  <thead>\n",
              "    <tr style=\"text-align: right;\">\n",
              "      <th></th>\n",
              "      <th>Unnamed: 0</th>\n",
              "      <th>novo_user_id</th>\n",
              "      <th>acertou</th>\n",
              "      <th>commented_by_professor</th>\n",
              "      <th>difficulty</th>\n",
              "      <th>discipline_id</th>\n",
              "      <th>examining_board_id</th>\n",
              "      <th>institute_id</th>\n",
              "      <th>knowledge_area_id</th>\n",
              "      <th>modality_id</th>\n",
              "      <th>outdated</th>\n",
              "      <th>scholarity_id</th>\n",
              "      <th>novo_question_id</th>\n",
              "      <th>score_user</th>\n",
              "      <th>score_questao</th>\n",
              "    </tr>\n",
              "  </thead>\n",
              "  <tbody>\n",
              "    <tr>\n",
              "      <th>count</th>\n",
              "      <td>1.994846e+06</td>\n",
              "      <td>1.994846e+06</td>\n",
              "      <td>1.994846e+06</td>\n",
              "      <td>1.994668e+06</td>\n",
              "      <td>1.992218e+06</td>\n",
              "      <td>1.994668e+06</td>\n",
              "      <td>1.994664e+06</td>\n",
              "      <td>1.994664e+06</td>\n",
              "      <td>1.994668e+06</td>\n",
              "      <td>1.994668e+06</td>\n",
              "      <td>1.994668e+06</td>\n",
              "      <td>1.994668e+06</td>\n",
              "      <td>1.994846e+06</td>\n",
              "      <td>1.994746e+06</td>\n",
              "      <td>1.994846e+06</td>\n",
              "    </tr>\n",
              "    <tr>\n",
              "      <th>mean</th>\n",
              "      <td>1.000387e+06</td>\n",
              "      <td>1.000438e+04</td>\n",
              "      <td>6.546420e-01</td>\n",
              "      <td>5.547384e-01</td>\n",
              "      <td>1.998077e+00</td>\n",
              "      <td>7.164762e+01</td>\n",
              "      <td>1.818385e+02</td>\n",
              "      <td>4.532343e+03</td>\n",
              "      <td>1.587963e+01</td>\n",
              "      <td>1.247089e+00</td>\n",
              "      <td>1.785761e-02</td>\n",
              "      <td>2.636609e+00</td>\n",
              "      <td>2.671055e+05</td>\n",
              "      <td>6.529998e+01</td>\n",
              "      <td>4.720920e+01</td>\n",
              "    </tr>\n",
              "    <tr>\n",
              "      <th>std</th>\n",
              "      <td>5.773282e+05</td>\n",
              "      <td>5.773282e+03</td>\n",
              "      <td>4.754850e-01</td>\n",
              "      <td>4.969948e-01</td>\n",
              "      <td>8.537872e-01</td>\n",
              "      <td>1.370736e+02</td>\n",
              "      <td>3.342811e+02</td>\n",
              "      <td>2.904568e+03</td>\n",
              "      <td>3.041407e+01</td>\n",
              "      <td>4.313189e-01</td>\n",
              "      <td>1.324338e-01</td>\n",
              "      <td>5.235831e-01</td>\n",
              "      <td>1.354971e+05</td>\n",
              "      <td>1.264567e+01</td>\n",
              "      <td>3.106612e+01</td>\n",
              "    </tr>\n",
              "    <tr>\n",
              "      <th>min</th>\n",
              "      <td>0.000000e+00</td>\n",
              "      <td>1.000000e+00</td>\n",
              "      <td>0.000000e+00</td>\n",
              "      <td>0.000000e+00</td>\n",
              "      <td>1.000000e+00</td>\n",
              "      <td>1.000000e+00</td>\n",
              "      <td>1.000000e+00</td>\n",
              "      <td>1.000000e+00</td>\n",
              "      <td>1.000000e+00</td>\n",
              "      <td>1.000000e+00</td>\n",
              "      <td>0.000000e+00</td>\n",
              "      <td>1.000000e+00</td>\n",
              "      <td>1.000000e+00</td>\n",
              "      <td>1.200000e+01</td>\n",
              "      <td>0.000000e+00</td>\n",
              "    </tr>\n",
              "    <tr>\n",
              "      <th>25%</th>\n",
              "      <td>5.004392e+05</td>\n",
              "      <td>5.005000e+03</td>\n",
              "      <td>0.000000e+00</td>\n",
              "      <td>0.000000e+00</td>\n",
              "      <td>1.000000e+00</td>\n",
              "      <td>2.000000e+00</td>\n",
              "      <td>2.000000e+00</td>\n",
              "      <td>8.350000e+02</td>\n",
              "      <td>9.000000e+00</td>\n",
              "      <td>1.000000e+00</td>\n",
              "      <td>0.000000e+00</td>\n",
              "      <td>2.000000e+00</td>\n",
              "      <td>1.642860e+05</td>\n",
              "      <td>5.700000e+01</td>\n",
              "      <td>1.700000e+01</td>\n",
              "    </tr>\n",
              "    <tr>\n",
              "      <th>50%</th>\n",
              "      <td>1.000610e+06</td>\n",
              "      <td>1.000700e+04</td>\n",
              "      <td>1.000000e+00</td>\n",
              "      <td>1.000000e+00</td>\n",
              "      <td>2.000000e+00</td>\n",
              "      <td>9.000000e+00</td>\n",
              "      <td>6.300000e+01</td>\n",
              "      <td>5.782000e+03</td>\n",
              "      <td>9.000000e+00</td>\n",
              "      <td>1.000000e+00</td>\n",
              "      <td>0.000000e+00</td>\n",
              "      <td>3.000000e+00</td>\n",
              "      <td>2.708670e+05</td>\n",
              "      <td>6.600000e+01</td>\n",
              "      <td>5.200000e+01</td>\n",
              "    </tr>\n",
              "    <tr>\n",
              "      <th>75%</th>\n",
              "      <td>1.500390e+06</td>\n",
              "      <td>1.500400e+04</td>\n",
              "      <td>1.000000e+00</td>\n",
              "      <td>1.000000e+00</td>\n",
              "      <td>3.000000e+00</td>\n",
              "      <td>5.300000e+01</td>\n",
              "      <td>2.070000e+02</td>\n",
              "      <td>6.260000e+03</td>\n",
              "      <td>1.400000e+01</td>\n",
              "      <td>1.000000e+00</td>\n",
              "      <td>0.000000e+00</td>\n",
              "      <td>3.000000e+00</td>\n",
              "      <td>3.716970e+05</td>\n",
              "      <td>7.400000e+01</td>\n",
              "      <td>7.300000e+01</td>\n",
              "    </tr>\n",
              "    <tr>\n",
              "      <th>max</th>\n",
              "      <td>1.999999e+06</td>\n",
              "      <td>2.000000e+04</td>\n",
              "      <td>1.000000e+00</td>\n",
              "      <td>1.000000e+00</td>\n",
              "      <td>5.000000e+00</td>\n",
              "      <td>5.930000e+02</td>\n",
              "      <td>3.851000e+03</td>\n",
              "      <td>1.027800e+04</td>\n",
              "      <td>3.250000e+02</td>\n",
              "      <td>2.000000e+00</td>\n",
              "      <td>1.000000e+00</td>\n",
              "      <td>3.000000e+00</td>\n",
              "      <td>5.006940e+05</td>\n",
              "      <td>9.900000e+01</td>\n",
              "      <td>9.900000e+01</td>\n",
              "    </tr>\n",
              "  </tbody>\n",
              "</table>\n",
              "</div>\n",
              "      <button class=\"colab-df-convert\" onclick=\"convertToInteractive('df-4936ae3f-3700-4b45-b482-888e6c0cac88')\"\n",
              "              title=\"Convert this dataframe to an interactive table.\"\n",
              "              style=\"display:none;\">\n",
              "        \n",
              "  <svg xmlns=\"http://www.w3.org/2000/svg\" height=\"24px\"viewBox=\"0 0 24 24\"\n",
              "       width=\"24px\">\n",
              "    <path d=\"M0 0h24v24H0V0z\" fill=\"none\"/>\n",
              "    <path d=\"M18.56 5.44l.94 2.06.94-2.06 2.06-.94-2.06-.94-.94-2.06-.94 2.06-2.06.94zm-11 1L8.5 8.5l.94-2.06 2.06-.94-2.06-.94L8.5 2.5l-.94 2.06-2.06.94zm10 10l.94 2.06.94-2.06 2.06-.94-2.06-.94-.94-2.06-.94 2.06-2.06.94z\"/><path d=\"M17.41 7.96l-1.37-1.37c-.4-.4-.92-.59-1.43-.59-.52 0-1.04.2-1.43.59L10.3 9.45l-7.72 7.72c-.78.78-.78 2.05 0 2.83L4 21.41c.39.39.9.59 1.41.59.51 0 1.02-.2 1.41-.59l7.78-7.78 2.81-2.81c.8-.78.8-2.07 0-2.86zM5.41 20L4 18.59l7.72-7.72 1.47 1.35L5.41 20z\"/>\n",
              "  </svg>\n",
              "      </button>\n",
              "      \n",
              "  <style>\n",
              "    .colab-df-container {\n",
              "      display:flex;\n",
              "      flex-wrap:wrap;\n",
              "      gap: 12px;\n",
              "    }\n",
              "\n",
              "    .colab-df-convert {\n",
              "      background-color: #E8F0FE;\n",
              "      border: none;\n",
              "      border-radius: 50%;\n",
              "      cursor: pointer;\n",
              "      display: none;\n",
              "      fill: #1967D2;\n",
              "      height: 32px;\n",
              "      padding: 0 0 0 0;\n",
              "      width: 32px;\n",
              "    }\n",
              "\n",
              "    .colab-df-convert:hover {\n",
              "      background-color: #E2EBFA;\n",
              "      box-shadow: 0px 1px 2px rgba(60, 64, 67, 0.3), 0px 1px 3px 1px rgba(60, 64, 67, 0.15);\n",
              "      fill: #174EA6;\n",
              "    }\n",
              "\n",
              "    [theme=dark] .colab-df-convert {\n",
              "      background-color: #3B4455;\n",
              "      fill: #D2E3FC;\n",
              "    }\n",
              "\n",
              "    [theme=dark] .colab-df-convert:hover {\n",
              "      background-color: #434B5C;\n",
              "      box-shadow: 0px 1px 3px 1px rgba(0, 0, 0, 0.15);\n",
              "      filter: drop-shadow(0px 1px 2px rgba(0, 0, 0, 0.3));\n",
              "      fill: #FFFFFF;\n",
              "    }\n",
              "  </style>\n",
              "\n",
              "      <script>\n",
              "        const buttonEl =\n",
              "          document.querySelector('#df-4936ae3f-3700-4b45-b482-888e6c0cac88 button.colab-df-convert');\n",
              "        buttonEl.style.display =\n",
              "          google.colab.kernel.accessAllowed ? 'block' : 'none';\n",
              "\n",
              "        async function convertToInteractive(key) {\n",
              "          const element = document.querySelector('#df-4936ae3f-3700-4b45-b482-888e6c0cac88');\n",
              "          const dataTable =\n",
              "            await google.colab.kernel.invokeFunction('convertToInteractive',\n",
              "                                                     [key], {});\n",
              "          if (!dataTable) return;\n",
              "\n",
              "          const docLinkHtml = 'Like what you see? Visit the ' +\n",
              "            '<a target=\"_blank\" href=https://colab.research.google.com/notebooks/data_table.ipynb>data table notebook</a>'\n",
              "            + ' to learn more about interactive tables.';\n",
              "          element.innerHTML = '';\n",
              "          dataTable['output_type'] = 'display_data';\n",
              "          await google.colab.output.renderOutput(dataTable, element);\n",
              "          const docLink = document.createElement('div');\n",
              "          docLink.innerHTML = docLinkHtml;\n",
              "          element.appendChild(docLink);\n",
              "        }\n",
              "      </script>\n",
              "    </div>\n",
              "  </div>\n",
              "  "
            ]
          },
          "metadata": {},
          "execution_count": 61
        }
      ],
      "source": [
        "df_model.describe()"
      ]
    },
    {
      "cell_type": "code",
      "execution_count": 62,
      "metadata": {
        "colab": {
          "base_uri": "https://localhost:8080/"
        },
        "id": "hL8b0Q5Vmvh1",
        "outputId": "d03d7a8e-7369-44df-9fa0-293f17d07e21"
      },
      "outputs": [
        {
          "output_type": "execute_result",
          "data": {
            "text/plain": [
              "Unnamed: 0                1994846\n",
              "novo_user_id                20000\n",
              "platform                        3\n",
              "region                         50\n",
              "gp:carrers                   1451\n",
              "gp:previous experience          4\n",
              "gp:segment                      4\n",
              "gp:source_project               2\n",
              "acertou                         2\n",
              "commented_by_professor          2\n",
              "difficulty                      5\n",
              "discipline_id                 225\n",
              "examining_board_id            580\n",
              "institute_id                 3099\n",
              "knowledge_area_id              94\n",
              "modality_id                     2\n",
              "outdated                        2\n",
              "right_answer                    5\n",
              "scholarity_id                   3\n",
              "novo_question_id           496354\n",
              "score_user                     85\n",
              "score_questao                  97\n",
              "dtype: int64"
            ]
          },
          "metadata": {},
          "execution_count": 62
        }
      ],
      "source": [
        "df_model.nunique()"
      ]
    },
    {
      "cell_type": "code",
      "execution_count": 63,
      "metadata": {
        "colab": {
          "base_uri": "https://localhost:8080/"
        },
        "id": "yFKrP2UDAbOS",
        "outputId": "95a786f0-8dcc-4ce2-e50c-67e508e639e0"
      },
      "outputs": [
        {
          "output_type": "execute_result",
          "data": {
            "text/plain": [
              "Unnamed: 0                  int64\n",
              "novo_user_id                int64\n",
              "platform                   object\n",
              "region                     object\n",
              "gp:carrers                 object\n",
              "gp:previous experience     object\n",
              "gp:segment                 object\n",
              "gp:source_project          object\n",
              "acertou                     int64\n",
              "commented_by_professor    float64\n",
              "difficulty                float64\n",
              "discipline_id             float64\n",
              "examining_board_id        float64\n",
              "institute_id              float64\n",
              "knowledge_area_id         float64\n",
              "modality_id               float64\n",
              "outdated                  float64\n",
              "right_answer               object\n",
              "scholarity_id             float64\n",
              "novo_question_id            int64\n",
              "score_user                float64\n",
              "score_questao             float64\n",
              "dtype: object"
            ]
          },
          "metadata": {},
          "execution_count": 63
        }
      ],
      "source": [
        "df_model.dtypes"
      ]
    },
    {
      "cell_type": "code",
      "execution_count": 64,
      "metadata": {
        "id": "8I16LdgvtCjg"
      },
      "outputs": [],
      "source": [
        "unique_values= dict()\n",
        "for col in df_model:\n",
        "    unique_values[col] = df_model[col].unique()"
      ]
    },
    {
      "cell_type": "code",
      "execution_count": 65,
      "metadata": {
        "colab": {
          "base_uri": "https://localhost:8080/"
        },
        "id": "E3gTYjco8o6f",
        "outputId": "ecefd697-6973-4009-a5e7-f17de7e6de29"
      },
      "outputs": [
        {
          "output_type": "stream",
          "name": "stdout",
          "text": [
            "> Unnamed: 0, Missing: 0 (0.0%)\n",
            "> novo_user_id, Missing: 0 (0.0%)\n",
            "> platform, Missing: 13155 (0.7%)\n",
            "> region, Missing: 13654 (0.7%)\n",
            "> gp:carrers, Missing: 116543 (5.8%)\n",
            "> gp:previous experience, Missing: 0 (0.0%)\n",
            "> gp:segment, Missing: 35098 (1.8%)\n",
            "> gp:source_project, Missing: 37891 (1.9%)\n",
            "> acertou, Missing: 0 (0.0%)\n",
            "> commented_by_professor, Missing: 178 (0.0%)\n",
            "> difficulty, Missing: 2628 (0.1%)\n",
            "> discipline_id, Missing: 178 (0.0%)\n",
            "> examining_board_id, Missing: 182 (0.0%)\n",
            "> institute_id, Missing: 182 (0.0%)\n",
            "> knowledge_area_id, Missing: 178 (0.0%)\n",
            "> modality_id, Missing: 178 (0.0%)\n",
            "> outdated, Missing: 178 (0.0%)\n",
            "> right_answer, Missing: 178 (0.0%)\n",
            "> scholarity_id, Missing: 178 (0.0%)\n",
            "> novo_question_id, Missing: 0 (0.0%)\n",
            "> score_user, Missing: 100 (0.0%)\n",
            "> score_questao, Missing: 0 (0.0%)\n"
          ]
        }
      ],
      "source": [
        "for i in df_model:\n",
        "\t# count number of rows with missing values\n",
        "\tn_miss = df_model[i].isna().sum()\n",
        "\tperc = n_miss / df_model.shape[0] * 100\n",
        "\tprint('> %s, Missing: %d (%.1f%%)' % (i, n_miss, perc))"
      ]
    },
    {
      "cell_type": "code",
      "execution_count": 66,
      "metadata": {
        "colab": {
          "base_uri": "https://localhost:8080/",
          "height": 0
        },
        "id": "jgurxL129h73",
        "outputId": "ed003218-adb6-4bb0-d179-a5dc6eafd231"
      },
      "outputs": [
        {
          "output_type": "execute_result",
          "data": {
            "text/plain": [
              "<matplotlib.axes._subplots.AxesSubplot at 0x7fd2b663f750>"
            ]
          },
          "metadata": {},
          "execution_count": 66
        },
        {
          "output_type": "display_data",
          "data": {
            "text/plain": [
              "<Figure size 432x288 with 1 Axes>"
            ],
            "image/png": "[encoded data removed]"
          },
          "metadata": {}
        }
      ],
      "source": [
        "balance = df_model['acertou'].value_counts().reset_index()\n",
        "sns.barplot(x='index', y='acertou', data=balance, palette='cividis')"
      ]
    },
    {
      "cell_type": "markdown",
      "metadata": {
        "id": "WKhQk9Xp1z34"
      },
      "source": [
        "##2-Cleanning The Data\n",
        "Removing unnecessary columns and filling Nan Values"
      ]
    },
    {
      "cell_type": "code",
      "execution_count": 67,
      "metadata": {
        "id": "J08DQ8K_6Hci"
      },
      "outputs": [],
      "source": [
        "#df_model.drop(df_model[df_model['nullified'] == 1.0].index, inplace=True)\n",
        "df_model.drop(df_model[df_model['score_questao'] == 1].index, inplace=True)\n",
        "df_model.drop(df_model[df_model['score_questao'] == 0].index, inplace=True)\n",
        "df_model = df_model.drop('Unnamed: 0', axis=1)"
      ]
    },
    {
      "cell_type": "code",
      "execution_count": 56,
      "metadata": {
        "id": "a5Kwe47Gz0eM",
        "colab": {
          "base_uri": "https://localhost:8080/",
          "height": 396
        },
        "outputId": "8a984610-3766-45d5-97a9-473629a9cf82"
      },
      "outputs": [
        {
          "output_type": "error",
          "ename": "KeyError",
          "evalue": "ignored",
          "traceback": [
            "\u001b[0;31m---------------------------------------------------------------------------\u001b[0m",
            "\u001b[0;31mKeyError\u001b[0m                                  Traceback (most recent call last)",
            "\u001b[0;32m<ipython-input-56-e2169b7f6c37>\u001b[0m in \u001b[0;36m<module>\u001b[0;34m\u001b[0m\n\u001b[1;32m     14\u001b[0m \u001b[0;31m#df_model = df_model.drop('knowledge_area_id', axis=1)\u001b[0m\u001b[0;34m\u001b[0m\u001b[0;34m\u001b[0m\u001b[0;34m\u001b[0m\u001b[0m\n\u001b[1;32m     15\u001b[0m \u001b[0;34m\u001b[0m\u001b[0m\n\u001b[0;32m---> 16\u001b[0;31m \u001b[0mdf_model\u001b[0m \u001b[0;34m=\u001b[0m \u001b[0mdf_model\u001b[0m\u001b[0;34m.\u001b[0m\u001b[0mdrop\u001b[0m\u001b[0;34m(\u001b[0m\u001b[0;34m'city'\u001b[0m\u001b[0;34m,\u001b[0m \u001b[0maxis\u001b[0m\u001b[0;34m=\u001b[0m\u001b[0;36m1\u001b[0m\u001b[0;34m)\u001b[0m\u001b[0;34m\u001b[0m\u001b[0;34m\u001b[0m\u001b[0m\n\u001b[0m\u001b[1;32m     17\u001b[0m \u001b[0mdf_model\u001b[0m \u001b[0;34m=\u001b[0m \u001b[0mdf_model\u001b[0m\u001b[0;34m.\u001b[0m\u001b[0mdrop\u001b[0m\u001b[0;34m(\u001b[0m\u001b[0;34m'country'\u001b[0m\u001b[0;34m,\u001b[0m \u001b[0maxis\u001b[0m\u001b[0;34m=\u001b[0m\u001b[0;36m1\u001b[0m\u001b[0;34m)\u001b[0m\u001b[0;34m\u001b[0m\u001b[0;34m\u001b[0m\u001b[0m\n\u001b[1;32m     18\u001b[0m \u001b[0mdf_model\u001b[0m \u001b[0;34m=\u001b[0m \u001b[0mdf_model\u001b[0m\u001b[0;34m.\u001b[0m\u001b[0mdrop\u001b[0m\u001b[0;34m(\u001b[0m\u001b[0;34m'device'\u001b[0m\u001b[0;34m,\u001b[0m \u001b[0maxis\u001b[0m\u001b[0;34m=\u001b[0m\u001b[0;36m1\u001b[0m\u001b[0;34m)\u001b[0m\u001b[0;34m\u001b[0m\u001b[0;34m\u001b[0m\u001b[0m\n",
            "\u001b[0;32m/usr/local/lib/python3.7/dist-packages/pandas/util/_decorators.py\u001b[0m in \u001b[0;36mwrapper\u001b[0;34m(*args, **kwargs)\u001b[0m\n\u001b[1;32m    309\u001b[0m                     \u001b[0mstacklevel\u001b[0m\u001b[0;34m=\u001b[0m\u001b[0mstacklevel\u001b[0m\u001b[0;34m,\u001b[0m\u001b[0;34m\u001b[0m\u001b[0;34m\u001b[0m\u001b[0m\n\u001b[1;32m    310\u001b[0m                 )\n\u001b[0;32m--> 311\u001b[0;31m             \u001b[0;32mreturn\u001b[0m \u001b[0mfunc\u001b[0m\u001b[0;34m(\u001b[0m\u001b[0;34m*\u001b[0m\u001b[0margs\u001b[0m\u001b[0;34m,\u001b[0m \u001b[0;34m**\u001b[0m\u001b[0mkwargs\u001b[0m\u001b[0;34m)\u001b[0m\u001b[0;34m\u001b[0m\u001b[0;34m\u001b[0m\u001b[0m\n\u001b[0m\u001b[1;32m    312\u001b[0m \u001b[0;34m\u001b[0m\u001b[0m\n\u001b[1;32m    313\u001b[0m         \u001b[0;32mreturn\u001b[0m \u001b[0mwrapper\u001b[0m\u001b[0;34m\u001b[0m\u001b[0;34m\u001b[0m\u001b[0m\n",
            "\u001b[0;32m/usr/local/lib/python3.7/dist-packages/pandas/core/frame.py\u001b[0m in \u001b[0;36mdrop\u001b[0;34m(self, labels, axis, index, columns, level, inplace, errors)\u001b[0m\n\u001b[1;32m   4911\u001b[0m             \u001b[0mlevel\u001b[0m\u001b[0;34m=\u001b[0m\u001b[0mlevel\u001b[0m\u001b[0;34m,\u001b[0m\u001b[0;34m\u001b[0m\u001b[0;34m\u001b[0m\u001b[0m\n\u001b[1;32m   4912\u001b[0m             \u001b[0minplace\u001b[0m\u001b[0;34m=\u001b[0m\u001b[0minplace\u001b[0m\u001b[0;34m,\u001b[0m\u001b[0;34m\u001b[0m\u001b[0;34m\u001b[0m\u001b[0m\n\u001b[0;32m-> 4913\u001b[0;31m             \u001b[0merrors\u001b[0m\u001b[0;34m=\u001b[0m\u001b[0merrors\u001b[0m\u001b[0;34m,\u001b[0m\u001b[0;34m\u001b[0m\u001b[0;34m\u001b[0m\u001b[0m\n\u001b[0m\u001b[1;32m   4914\u001b[0m         )\n\u001b[1;32m   4915\u001b[0m \u001b[0;34m\u001b[0m\u001b[0m\n",
            "\u001b[0;32m/usr/local/lib/python3.7/dist-packages/pandas/core/generic.py\u001b[0m in \u001b[0;36mdrop\u001b[0;34m(self, labels, axis, index, columns, level, inplace, errors)\u001b[0m\n\u001b[1;32m   4148\u001b[0m         \u001b[0;32mfor\u001b[0m \u001b[0maxis\u001b[0m\u001b[0;34m,\u001b[0m \u001b[0mlabels\u001b[0m \u001b[0;32min\u001b[0m \u001b[0maxes\u001b[0m\u001b[0;34m.\u001b[0m\u001b[0mitems\u001b[0m\u001b[0;34m(\u001b[0m\u001b[0;34m)\u001b[0m\u001b[0;34m:\u001b[0m\u001b[0;34m\u001b[0m\u001b[0;34m\u001b[0m\u001b[0m\n\u001b[1;32m   4149\u001b[0m             \u001b[0;32mif\u001b[0m \u001b[0mlabels\u001b[0m \u001b[0;32mis\u001b[0m \u001b[0;32mnot\u001b[0m \u001b[0;32mNone\u001b[0m\u001b[0;34m:\u001b[0m\u001b[0;34m\u001b[0m\u001b[0;34m\u001b[0m\u001b[0m\n\u001b[0;32m-> 4150\u001b[0;31m                 \u001b[0mobj\u001b[0m \u001b[0;34m=\u001b[0m \u001b[0mobj\u001b[0m\u001b[0;34m.\u001b[0m\u001b[0m_drop_axis\u001b[0m\u001b[0;34m(\u001b[0m\u001b[0mlabels\u001b[0m\u001b[0;34m,\u001b[0m \u001b[0maxis\u001b[0m\u001b[0;34m,\u001b[0m \u001b[0mlevel\u001b[0m\u001b[0;34m=\u001b[0m\u001b[0mlevel\u001b[0m\u001b[0;34m,\u001b[0m \u001b[0merrors\u001b[0m\u001b[0;34m=\u001b[0m\u001b[0merrors\u001b[0m\u001b[0;34m)\u001b[0m\u001b[0;34m\u001b[0m\u001b[0;34m\u001b[0m\u001b[0m\n\u001b[0m\u001b[1;32m   4151\u001b[0m \u001b[0;34m\u001b[0m\u001b[0m\n\u001b[1;32m   4152\u001b[0m         \u001b[0;32mif\u001b[0m \u001b[0minplace\u001b[0m\u001b[0;34m:\u001b[0m\u001b[0;34m\u001b[0m\u001b[0;34m\u001b[0m\u001b[0m\n",
            "\u001b[0;32m/usr/local/lib/python3.7/dist-packages/pandas/core/generic.py\u001b[0m in \u001b[0;36m_drop_axis\u001b[0;34m(self, labels, axis, level, errors)\u001b[0m\n\u001b[1;32m   4183\u001b[0m                 \u001b[0mnew_axis\u001b[0m \u001b[0;34m=\u001b[0m \u001b[0maxis\u001b[0m\u001b[0;34m.\u001b[0m\u001b[0mdrop\u001b[0m\u001b[0;34m(\u001b[0m\u001b[0mlabels\u001b[0m\u001b[0;34m,\u001b[0m \u001b[0mlevel\u001b[0m\u001b[0;34m=\u001b[0m\u001b[0mlevel\u001b[0m\u001b[0;34m,\u001b[0m \u001b[0merrors\u001b[0m\u001b[0;34m=\u001b[0m\u001b[0merrors\u001b[0m\u001b[0;34m)\u001b[0m\u001b[0;34m\u001b[0m\u001b[0;34m\u001b[0m\u001b[0m\n\u001b[1;32m   4184\u001b[0m             \u001b[0;32melse\u001b[0m\u001b[0;34m:\u001b[0m\u001b[0;34m\u001b[0m\u001b[0;34m\u001b[0m\u001b[0m\n\u001b[0;32m-> 4185\u001b[0;31m                 \u001b[0mnew_axis\u001b[0m \u001b[0;34m=\u001b[0m \u001b[0maxis\u001b[0m\u001b[0;34m.\u001b[0m\u001b[0mdrop\u001b[0m\u001b[0;34m(\u001b[0m\u001b[0mlabels\u001b[0m\u001b[0;34m,\u001b[0m \u001b[0merrors\u001b[0m\u001b[0;34m=\u001b[0m\u001b[0merrors\u001b[0m\u001b[0;34m)\u001b[0m\u001b[0;34m\u001b[0m\u001b[0;34m\u001b[0m\u001b[0m\n\u001b[0m\u001b[1;32m   4186\u001b[0m             \u001b[0mresult\u001b[0m \u001b[0;34m=\u001b[0m \u001b[0mself\u001b[0m\u001b[0;34m.\u001b[0m\u001b[0mreindex\u001b[0m\u001b[0;34m(\u001b[0m\u001b[0;34m**\u001b[0m\u001b[0;34m{\u001b[0m\u001b[0maxis_name\u001b[0m\u001b[0;34m:\u001b[0m \u001b[0mnew_axis\u001b[0m\u001b[0;34m}\u001b[0m\u001b[0;34m)\u001b[0m\u001b[0;34m\u001b[0m\u001b[0;34m\u001b[0m\u001b[0m\n\u001b[1;32m   4187\u001b[0m \u001b[0;34m\u001b[0m\u001b[0m\n",
            "\u001b[0;32m/usr/local/lib/python3.7/dist-packages/pandas/core/indexes/base.py\u001b[0m in \u001b[0;36mdrop\u001b[0;34m(self, labels, errors)\u001b[0m\n\u001b[1;32m   6015\u001b[0m         \u001b[0;32mif\u001b[0m \u001b[0mmask\u001b[0m\u001b[0;34m.\u001b[0m\u001b[0many\u001b[0m\u001b[0;34m(\u001b[0m\u001b[0;34m)\u001b[0m\u001b[0;34m:\u001b[0m\u001b[0;34m\u001b[0m\u001b[0;34m\u001b[0m\u001b[0m\n\u001b[1;32m   6016\u001b[0m             \u001b[0;32mif\u001b[0m \u001b[0merrors\u001b[0m \u001b[0;34m!=\u001b[0m \u001b[0;34m\"ignore\"\u001b[0m\u001b[0;34m:\u001b[0m\u001b[0;34m\u001b[0m\u001b[0;34m\u001b[0m\u001b[0m\n\u001b[0;32m-> 6017\u001b[0;31m                 \u001b[0;32mraise\u001b[0m \u001b[0mKeyError\u001b[0m\u001b[0;34m(\u001b[0m\u001b[0;34mf\"{labels[mask]} not found in axis\"\u001b[0m\u001b[0;34m)\u001b[0m\u001b[0;34m\u001b[0m\u001b[0;34m\u001b[0m\u001b[0m\n\u001b[0m\u001b[1;32m   6018\u001b[0m             \u001b[0mindexer\u001b[0m \u001b[0;34m=\u001b[0m \u001b[0mindexer\u001b[0m\u001b[0;34m[\u001b[0m\u001b[0;34m~\u001b[0m\u001b[0mmask\u001b[0m\u001b[0;34m]\u001b[0m\u001b[0;34m\u001b[0m\u001b[0;34m\u001b[0m\u001b[0m\n\u001b[1;32m   6019\u001b[0m         \u001b[0;32mreturn\u001b[0m \u001b[0mself\u001b[0m\u001b[0;34m.\u001b[0m\u001b[0mdelete\u001b[0m\u001b[0;34m(\u001b[0m\u001b[0mindexer\u001b[0m\u001b[0;34m)\u001b[0m\u001b[0;34m\u001b[0m\u001b[0;34m\u001b[0m\u001b[0m\n",
            "\u001b[0;31mKeyError\u001b[0m: \"['city'] not found in axis\""
          ]
        }
      ],
      "source": [
        "df_model = df_model.drop('novo_question_id', axis=1)\n",
        "#df_model = df_model.drop('score_questao', axis=1)\n",
        "#df_model = df_model.drop('gp:carrers', axis=1)\n",
        "#df_model = df_model.drop('platform', axis=1)\n",
        "#df_model = df_model.drop('region', axis=1)\n",
        "#df_model = df_model.drop('gp:source_project', axis=1)\n",
        "#df_model = df_model.drop('gp:segment', axis=1)\n",
        "#df_model = df_model.drop('gp:previous experience', axis=1)\n",
        "#df_model = df_model.drop('right_answer', axis=1)\n",
        "\n",
        "#df_model = df_model.drop('discipline_id', axis=1)\n",
        "#df_model = df_model.drop('examining_board_id', axis=1)\n",
        "#df_model = df_model.drop('institute_id', axis=1)\n",
        "#df_model = df_model.drop('knowledge_area_id', axis=1)\n",
        "\n",
        "df_model = df_model.drop('city', axis=1)\n",
        "df_model = df_model.drop('country', axis=1)\n",
        "df_model = df_model.drop('device', axis=1)\n",
        "df_model = df_model.drop('device_type', axis=1)\n",
        "df_model = df_model.drop('os', axis=1)\n",
        "df_model = df_model.drop('created_at', axis=1)\n",
        "df_model = df_model.drop('nullified', axis=1)\n",
        "df_model = df_model.drop('product_id', axis=1)\n",
        "df_model = df_model.drop('publication_year', axis=1)\n",
        "df_model = df_model.drop('row', axis=1)\n",
        "df_model = df_model.drop('gp:degree course', axis=1)\n",
        "df_model = df_model.drop('gp:school type', axis=1)\n",
        "df_model = df_model.drop('gp:college type', axis=1)"
      ]
    },
    {
      "cell_type": "code",
      "execution_count": null,
      "metadata": {
        "id": "iN8QHMKKDx0y"
      },
      "outputs": [],
      "source": [
        "df_model['gp:previous experience'].value_counts(normalize=True) * 100"
      ]
    },
    {
      "cell_type": "code",
      "execution_count": null,
      "metadata": {
        "id": "UipPE1_FEntS"
      },
      "outputs": [],
      "source": [
        "import numpy as np\n",
        "\n",
        "m = df_model['gp:previous experience'].isna()\n",
        "\n",
        "l = m.sum()\n",
        "\n",
        "s = np.random.choice(['beginner','experient','professional','highly_experient'], size=l,p=[0.57632658,0.28580506,0.09830975,0.03955861])\n",
        "\n",
        "df_model.loc[m, 'gp:previous experience'] = s"
      ]
    },
    {
      "cell_type": "code",
      "execution_count": null,
      "metadata": {
        "id": "EPKY1vJvBkbM"
      },
      "outputs": [],
      "source": [
        "df_model['gp:previous experience'].value_counts(normalize=True) * 100"
      ]
    },
    {
      "cell_type": "code",
      "execution_count": null,
      "metadata": {
        "id": "1YBce51o-AYI"
      },
      "outputs": [],
      "source": [
        "for i in df_model:\n",
        "\t# count number of rows with missing values\n",
        "\tn_miss = df_model[i].isna().sum()\n",
        "\tperc = n_miss / df_model.shape[0] * 100\n",
        "\tprint('> %s, Missing: %d (%.1f%%)' % (i, n_miss, perc))"
      ]
    },
    {
      "cell_type": "markdown",
      "metadata": {
        "id": "Umu5bQ4KT36p"
      },
      "source": [
        "##3- Feature engineering\n",
        "\n",
        "Não esta sendo usado"
      ]
    },
    {
      "cell_type": "markdown",
      "source": [
        "Não está sendo usado\n"
      ],
      "metadata": {
        "id": "ONCAX3-OHqzt"
      }
    },
    {
      "cell_type": "code",
      "execution_count": null,
      "metadata": {
        "id": "n1xYyv4P9BQH"
      },
      "outputs": [],
      "source": [
        "#df_model = df_model[(df_model['novo_user_id']<=1000)]"
      ]
    },
    {
      "cell_type": "code",
      "execution_count": null,
      "metadata": {
        "id": "MZFYBMYfUNt9"
      },
      "outputs": [],
      "source": [
        "#df_model['score_user'] =np.nan\n",
        "#df_model['score_questao'] =np.nan"
      ]
    },
    {
      "cell_type": "code",
      "execution_count": null,
      "metadata": {
        "id": "kchGYnKJYEmU"
      },
      "outputs": [],
      "source": [
        "#df_score_user = df_model.groupby('novo_user_id')\n",
        "#df_score_questao = df_model.groupby('novo_question_id')"
      ]
    },
    {
      "cell_type": "code",
      "execution_count": null,
      "metadata": {
        "id": "gpLaGwzmcnXe"
      },
      "outputs": [],
      "source": [
        "# for key in df_score_questao.groups.keys():\n",
        "#   score = df_score_questao.get_group(key).groupby('acertou')\n",
        "#   if(len(score.size())== 1):\n",
        "#     df_model.loc[df_model['novo_question_id'] == key , 'score_questao'] = float(list(score.groups.keys())[0])\n",
        "#   else:\n",
        "#     df_model.loc[df_model['novo_question_id'] == key , 'score_questao'] = float(round(score.size()[1]/(score.size()[1]+score.size()[0])*100))"
      ]
    },
    {
      "cell_type": "code",
      "execution_count": null,
      "metadata": {
        "id": "l1oEssUlU0ta"
      },
      "outputs": [],
      "source": [
        "# for rowIndex in range(1,len(df_model['novo_user_id'].unique())):\n",
        "#   score = df_score_user.get_group(rowIndex).groupby('acertou')\n",
        "#   df_model.loc[df_model['novo_user_id'] == rowIndex , 'score_user'] = score.size()[1]"
      ]
    },
    {
      "cell_type": "code",
      "execution_count": null,
      "metadata": {
        "id": "usdzwBYQZGhH"
      },
      "outputs": [],
      "source": [
        "# df_model"
      ]
    },
    {
      "cell_type": "code",
      "execution_count": null,
      "metadata": {
        "id": "8vWIFtA-jQE2"
      },
      "outputs": [],
      "source": [
        "# df_model.to_csv('/content/drive/MyDrive/Sigma/QConcursos/Dataset_model_processado.csv')"
      ]
    },
    {
      "cell_type": "markdown",
      "metadata": {
        "id": "hzSDYKTmT_is"
      },
      "source": []
    },
    {
      "cell_type": "markdown",
      "metadata": {
        "id": "Y81od6UT2m2w"
      },
      "source": [
        "##4- Normalizing the data\n",
        "Labeling string values"
      ]
    },
    {
      "cell_type": "code",
      "execution_count": 68,
      "metadata": {
        "id": "FhiuX_0e2_tA"
      },
      "outputs": [],
      "source": [
        "from sklearn.preprocessing import LabelEncoder\n",
        "\n",
        "le = LabelEncoder()\n",
        "columns_to_encode =list(df_model.select_dtypes(include=['category','object']))\n",
        "for feature in columns_to_encode:\n",
        "  df_model[feature] = le.fit_transform(df_model[feature].astype(str))\n"
      ]
    },
    {
      "cell_type": "markdown",
      "metadata": {
        "id": "fVg5zs_3CHhV"
      },
      "source": [
        "##5- Pré Processamento\n",
        "Modelando dados para entrarem no modelo"
      ]
    },
    {
      "cell_type": "code",
      "execution_count": 69,
      "metadata": {
        "id": "UDnWhTgDBPzu",
        "colab": {
          "base_uri": "https://localhost:8080/"
        },
        "outputId": "53dcc797-5fa3-4238-acd7-7dbfcc58b09d"
      },
      "outputs": [
        {
          "output_type": "stream",
          "name": "stdout",
          "text": [
            "Y \n",
            " 1    97004\n",
            "0    48623\n",
            "Name: acertou, dtype: int64\n",
            "Y \n",
            " 0    97004\n",
            "1    97004\n",
            "Name: acertou, dtype: int64\n"
          ]
        }
      ],
      "source": [
        "from sklearn.model_selection import train_test_split\n",
        "import numpy as np\n",
        "from sklearn.preprocessing import StandardScaler\n",
        "import sklearn\n",
        "from imblearn.over_sampling import RandomOverSampler\n",
        "\n",
        "scaler = StandardScaler()\n",
        "\n",
        "df_model_val = df_model[(df_model['novo_user_id']>18000) & (df_model['novo_user_id']<=20000)]\n",
        "df_model = df_model[(df_model['novo_user_id']<=2000)]\n",
        "\n",
        "ros = RandomOverSampler(random_state=888)\n",
        "\n",
        "df_acertou = df_model['acertou']\n",
        "df_acertou_val = df_model_val['acertou']\n",
        "\n",
        "print('Y \\n',df_acertou.value_counts())\n",
        "\n",
        "df_model=df_model.drop('acertou',axis=1)\n",
        "df_model_val=df_model_val.drop('acertou',axis=1)\n",
        "\n",
        "df_model = df_model.fillna(0)\n",
        "df_model_val = df_model_val.fillna(0)\n",
        "\n",
        "\n",
        "df_model, df_acertou = ros.fit_resample(df_model, df_acertou)\n",
        "\n",
        "X_val = scaler.fit_transform(df_model_val)\n",
        "y_val = df_acertou_val\n",
        "\n",
        "print('Y \\n',df_acertou.value_counts())\n",
        "\n",
        "\n",
        "X_train, X_test, y_train, y_test = train_test_split(df_model,df_acertou, test_size=0.2, random_state=888)\n",
        "X_train = scaler.fit_transform(X_train)\n",
        "X_test = scaler.fit_transform(X_test)"
      ]
    },
    {
      "cell_type": "code",
      "execution_count": 70,
      "metadata": {
        "id": "mI7kdEFmC39E",
        "colab": {
          "base_uri": "https://localhost:8080/"
        },
        "outputId": "f1975478-e2b9-40c5-8c11-1a7137efd26a"
      },
      "outputs": [
        {
          "output_type": "execute_result",
          "data": {
            "text/plain": [
              "{0: 50.040591214257184, 1: 49.959408785742816}"
            ]
          },
          "metadata": {},
          "execution_count": 70
        }
      ],
      "source": [
        "uniques, counts = np.unique(y_train, return_counts=True)\n",
        "dict(zip(uniques, counts * 100 / len(y_train)))"
      ]
    },
    {
      "cell_type": "code",
      "execution_count": 71,
      "metadata": {
        "id": "BVx1MuuDC9GY",
        "colab": {
          "base_uri": "https://localhost:8080/"
        },
        "outputId": "4fbb912b-7feb-4570-bc45-8749b8cdbfa6"
      },
      "outputs": [
        {
          "output_type": "execute_result",
          "data": {
            "text/plain": [
              "{0: 49.83763723519406, 1: 50.16236276480594}"
            ]
          },
          "metadata": {},
          "execution_count": 71
        }
      ],
      "source": [
        "uniques, counts = np.unique(y_test, return_counts=True)\n",
        "dict(zip(uniques, counts * 100 / len(y_test)))"
      ]
    },
    {
      "cell_type": "code",
      "execution_count": 72,
      "metadata": {
        "id": "7vKnrf_QC7fw",
        "colab": {
          "base_uri": "https://localhost:8080/"
        },
        "outputId": "1407f179-8b50-4fb3-b625-bfa3a4a2275b"
      },
      "outputs": [
        {
          "output_type": "stream",
          "name": "stdout",
          "text": [
            "X_train: (155206, 20)\n",
            "y_train: (155206,)\n",
            "X_test: (38802, 20)\n",
            "y_test: (38802,)\n"
          ]
        }
      ],
      "source": [
        "print('X_train:',np.shape(X_train))\n",
        "print('y_train:',np.shape(y_train))\n",
        "print('X_test:',np.shape(X_test))\n",
        "print('y_test:',np.shape(y_test))"
      ]
    },
    {
      "cell_type": "markdown",
      "metadata": {
        "id": "zzHs0wXrOe1z"
      },
      "source": [
        "##-6 Modelos prontos"
      ]
    },
    {
      "cell_type": "markdown",
      "metadata": {
        "id": "meCnH5qnW7F8"
      },
      "source": [
        "##RandomForest"
      ]
    },
    {
      "cell_type": "code",
      "execution_count": null,
      "metadata": {
        "id": "iSg_-G2XDagg"
      },
      "outputs": [],
      "source": [
        "import matplotlib.pyplot as plt\n",
        "import seaborn as sns\n",
        "from sklearn.ensemble import RandomForestClassifier\n",
        "from sklearn import metrics\n",
        "from sklearn.metrics import accuracy_score, confusion_matrix, classification_report, f1_score\n",
        "from sklearn.model_selection import RandomizedSearchCV\n",
        "from sklearn.linear_model import LogisticRegression\n",
        "from sklearn.model_selection import GridSearchCV, StratifiedKFold\n",
        "\n",
        "rfc=RandomForestClassifier(max_depth=64,n_estimators=1000,random_state=42, class_weight='balanced')\n",
        "rfc.fit(X_train,y_train)"
      ]
    },
    {
      "cell_type": "code",
      "execution_count": null,
      "metadata": {
        "id": "dp2_rHEdNhe8"
      },
      "outputs": [],
      "source": [
        "y_pred=rfc.predict(X_test)\n",
        "matrix = confusion_matrix(y_test, y_pred)\n",
        "matrix = matrix.astype('float') / matrix.sum(axis=1)[:, np.newaxis]\n",
        "\n",
        "plt.figure(figsize=(16,7))\n",
        "sns.set(font_scale=1.4)\n",
        "sns.heatmap(matrix, annot=True, annot_kws={'size':10},\n",
        "            cmap=plt.cm.Greens, linewidths=0.2)\n",
        "\n",
        "class_names = ['Errou', 'Acertou']\n",
        "tick_marks = np.arange(len(class_names))\n",
        "tick_marks2 = tick_marks + 0.5\n",
        "plt.xticks(tick_marks, class_names, rotation=25)\n",
        "plt.yticks(tick_marks2, class_names, rotation=0)\n",
        "plt.xlabel('Predicted label')\n",
        "plt.ylabel('True label')\n",
        "plt.title('Confusion Matrix for Random Forest Model')\n",
        "plt.show()"
      ]
    },
    {
      "cell_type": "code",
      "execution_count": null,
      "metadata": {
        "id": "G2o8_JCwHgr8"
      },
      "outputs": [],
      "source": [
        "print(\"Accuracy:\",metrics.accuracy_score(y_test, y_pred))\n",
        "print(classification_report(y_test, y_pred))\n",
        "print(f1_score(y_test, y_pred))\n",
        "plt.barh(df_model.columns, rfc.feature_importances_)"
      ]
    },
    {
      "cell_type": "code",
      "source": [
        "y_pred = rfc.predict(X_val)\n",
        "matrix = confusion_matrix(y_val, y_pred)\n",
        "matrix = matrix.astype('float') / matrix.sum(axis=1)[:, np.newaxis]\n",
        "\n",
        "plt.figure(figsize=(16,7))\n",
        "sns.set(font_scale=1.4)\n",
        "sns.heatmap(matrix, annot=True, annot_kws={'size':10},\n",
        "            cmap=plt.cm.Greens, linewidths=0.2)\n",
        "\n",
        "class_names = ['Errou', 'Acertou']\n",
        "tick_marks = np.arange(len(class_names))\n",
        "tick_marks2 = tick_marks + 0.5\n",
        "plt.xticks(tick_marks, class_names, rotation=25)\n",
        "plt.yticks(tick_marks2, class_names, rotation=0)\n",
        "plt.xlabel('Predicted label')\n",
        "plt.ylabel('True label')\n",
        "plt.title('Confusion Matrix for Random Forest Model')\n",
        "plt.show()"
      ],
      "metadata": {
        "id": "vO6M8BwTUfCh"
      },
      "execution_count": null,
      "outputs": []
    },
    {
      "cell_type": "code",
      "source": [
        "print(\"Accuracy:\",metrics.accuracy_score(y_val, y_pred))\n",
        "print(classification_report(y_val, y_pred))\n",
        "print(f1_score(y_val, y_pred))\n",
        "plt.barh(df_model_val.columns, rfc.feature_importances_)"
      ],
      "metadata": {
        "id": "qIADTN2vUhlU"
      },
      "execution_count": null,
      "outputs": []
    },
    {
      "cell_type": "code",
      "source": [
        "pd.Series(y_pred).value_counts()"
      ],
      "metadata": {
        "id": "WXhaLzF0dV64"
      },
      "execution_count": null,
      "outputs": []
    },
    {
      "cell_type": "markdown",
      "metadata": {
        "id": "BfdUzRAiW5KV"
      },
      "source": []
    },
    {
      "cell_type": "markdown",
      "source": [
        "##GridSearch"
      ],
      "metadata": {
        "id": "iSaFoFnCmCdN"
      }
    },
    {
      "cell_type": "code",
      "source": [
        "import pandas as pd\n",
        "from sklearn.linear_model import LogisticRegression\n",
        "from sklearn.svm import SVC\n",
        "from sklearn.ensemble import RandomForestClassifier\n",
        "from sklearn.ensemble import GradientBoostingClassifier\n",
        "from sklearn.pipeline import Pipeline\n",
        "from sklearn.model_selection import GridSearchCV, RandomizedSearchCV\n",
        "from sklearn.model_selection import train_test_split\n",
        "from sklearn.tree import DecisionTreeClassifier\n",
        "from sklearn.naive_bayes import MultinomialNB\n",
        "from sklearn.neighbors import KNeighborsClassifier\n",
        "from sklearn.metrics import *\n",
        "\n",
        "clf1 = RandomForestClassifier(random_state=42)\n",
        "clf2 = SVC(probability=True, random_state=42)\n",
        "clf3 = LogisticRegression(random_state=42)\n",
        "clf4 = DecisionTreeClassifier(random_state=42)\n",
        "clf5 = KNeighborsClassifier()\n",
        "clf6 = MultinomialNB()\n",
        "clf7 = GradientBoostingClassifier(random_state=42)"
      ],
      "metadata": {
        "id": "CskMGnGgmFR8"
      },
      "execution_count": null,
      "outputs": []
    },
    {
      "cell_type": "code",
      "source": [
        "\n",
        "param1 = {}\n",
        "param1['classifier__n_estimators'] = [10, 50, 100, 250]\n",
        "param1['classifier__max_depth'] = [5, 10, 20]\n",
        "param1['classifier__class_weight'] = [None, {0:1,1:5}, {0:1,1:10}, {0:1,1:25}]\n",
        "param1['classifier'] = [clf1]\n",
        "\n",
        "param2 = {}\n",
        "param2['classifier__C'] = [10**-2, 10**-1, 10**0, 10**1, 10**2]\n",
        "param2['classifier__class_weight'] = [None, {0:1,1:5}, {0:1,1:10}, {0:1,1:25}]\n",
        "param2['classifier'] = [clf2]\n",
        "\n",
        "param3 = {}\n",
        "param3['classifier__C'] = [10**-2, 10**-1, 10**0, 10**1, 10**2]\n",
        "param3['classifier__penalty'] = ['l1', 'l2']\n",
        "param3['classifier__class_weight'] = [None, {0:1,1:5}, {0:1,1:10}, {0:1,1:25}]\n",
        "param3['classifier'] = [clf3]\n",
        "\n",
        "param4 = {}\n",
        "param4['classifier__max_depth'] = [5,10,25,None]\n",
        "param4['classifier__min_samples_split'] = [2,5,10]\n",
        "param4['classifier__class_weight'] = [None, {0:1,1:5}, {0:1,1:10}, {0:1,1:25}]\n",
        "param4['classifier'] = [clf4]\n",
        "\n",
        "param5 = {}\n",
        "param5['classifier__n_neighbors'] = [2,5,10,25,50]\n",
        "param5['classifier'] = [clf5]\n",
        "\n",
        "param6 = {}\n",
        "param6['classifier__alpha'] = [10**0, 10**1, 10**2]\n",
        "param6['classifier'] = [clf6]\n",
        "\n",
        "param7 = {}\n",
        "param7['classifier__n_estimators'] = [10, 50, 100, 250]\n",
        "param7['classifier__max_depth'] = [5, 10, 20]\n",
        "param7['classifier'] = [clf7]"
      ],
      "metadata": {
        "id": "IaWplh7YmQv1"
      },
      "execution_count": null,
      "outputs": []
    },
    {
      "cell_type": "code",
      "source": [
        "pipeline = Pipeline([('classifier', clf1)])\n",
        "params = [param1, param2, param3, param4, param5, param6, param7]"
      ],
      "metadata": {
        "id": "oGBhQcwDmQMI"
      },
      "execution_count": null,
      "outputs": []
    },
    {
      "cell_type": "code",
      "source": [
        "gs = GridSearchCV(pipeline, params, cv=3, n_jobs=-1, scoring='roc_auc').fit(X_train, y_train)"
      ],
      "metadata": {
        "id": "O7D8ity_mVT8"
      },
      "execution_count": null,
      "outputs": []
    },
    {
      "cell_type": "code",
      "source": [
        "gs.best_params_"
      ],
      "metadata": {
        "colab": {
          "base_uri": "https://localhost:8080/"
        },
        "id": "Miogpba8mZQS",
        "outputId": "019fb9cd-8d57-480f-c337-6eefde7f32bc"
      },
      "execution_count": null,
      "outputs": [
        {
          "output_type": "execute_result",
          "data": {
            "text/plain": [
              "{'classifier': RandomForestClassifier(max_depth=20, n_estimators=250, random_state=42),\n",
              " 'classifier__class_weight': None,\n",
              " 'classifier__max_depth': 20,\n",
              " 'classifier__n_estimators': 250}"
            ]
          },
          "metadata": {},
          "execution_count": 30
        }
      ]
    },
    {
      "cell_type": "code",
      "source": [
        "gs.best_score_"
      ],
      "metadata": {
        "colab": {
          "base_uri": "https://localhost:8080/"
        },
        "id": "t-WUvQORmZrK",
        "outputId": "8a72d71d-1b0f-4f8b-cee9-c0a962cc799b"
      },
      "execution_count": null,
      "outputs": [
        {
          "output_type": "execute_result",
          "data": {
            "text/plain": [
              "0.798290500005897"
            ]
          },
          "metadata": {},
          "execution_count": 31
        }
      ]
    },
    {
      "cell_type": "code",
      "source": [
        "gs.best_estimator_"
      ],
      "metadata": {
        "colab": {
          "base_uri": "https://localhost:8080/"
        },
        "id": "OZ5h9A4FrGar",
        "outputId": "fac5adfe-f986-4254-febe-d4c43470e444"
      },
      "execution_count": null,
      "outputs": [
        {
          "output_type": "execute_result",
          "data": {
            "text/plain": [
              "Pipeline(steps=[('classifier',\n",
              "                 RandomForestClassifier(max_depth=20, n_estimators=250,\n",
              "                                        random_state=42))])"
            ]
          },
          "metadata": {},
          "execution_count": 47
        }
      ]
    },
    {
      "cell_type": "code",
      "source": [
        "print(\"Test Precision:\",precision_score(gs.predict(X_test), y_test))\n",
        "print(\"Test Recall:\",recall_score(gs.predict(X_test), y_test))\n",
        "print(\"Test ROC AUC Score:\",roc_auc_score(gs.predict(X_test), y_test))\n",
        "print(\"Test F1 Score:\",f1_score(gs.predict(X_test), y_test))"
      ],
      "metadata": {
        "colab": {
          "base_uri": "https://localhost:8080/"
        },
        "id": "efq4pxzRmcHO",
        "outputId": "34cc48d9-aa47-4d30-dfde-c5763d1586f9"
      },
      "execution_count": null,
      "outputs": [
        {
          "output_type": "stream",
          "name": "stdout",
          "text": [
            "Test Precision: 0.7395079594790159\n",
            "Test Recall: 0.8136942675159236\n",
            "Test ROC AUC Score: 0.7875364841777585\n",
            "Test F1 Score: 0.7748294162244124\n"
          ]
        }
      ]
    },
    {
      "cell_type": "code",
      "source": [],
      "metadata": {
        "id": "a12t7-Yc3JNI"
      },
      "execution_count": null,
      "outputs": []
    },
    {
      "cell_type": "markdown",
      "source": [
        "##Decision"
      ],
      "metadata": {
        "id": "27TTDmJa3LLf"
      }
    },
    {
      "cell_type": "code",
      "source": [
        "from sklearn.tree import DecisionTreeClassifier\n",
        "import matplotlib.pyplot as plt\n",
        "import seaborn as sns\n",
        "from sklearn import metrics\n",
        "from sklearn.metrics import accuracy_score, confusion_matrix, classification_report, f1_score\n",
        "\n",
        "xgb = DecisionTreeClassifier(ccp_alpha=0.0, class_weight='balanced', criterion='gini',\n",
        "max_depth=None, max_features=None,\n",
        "min_samples_leaf=1, min_samples_split=2,min_weight_fraction_leaf=0.0, \n",
        "random_state=None, splitter='best')\n",
        "xgb.fit(X_train, y_train)"
      ],
      "metadata": {
        "colab": {
          "base_uri": "https://localhost:8080/"
        },
        "id": "DF4GigXj3OaS",
        "outputId": "75e5e6d1-0a1d-4930-bec5-cffc996ed7e7"
      },
      "execution_count": 79,
      "outputs": [
        {
          "output_type": "execute_result",
          "data": {
            "text/plain": [
              "DecisionTreeClassifier(class_weight='balanced')"
            ]
          },
          "metadata": {},
          "execution_count": 79
        }
      ]
    },
    {
      "cell_type": "code",
      "source": [
        "y_pred=xgb.predict(X_test)"
      ],
      "metadata": {
        "id": "pPyoA1OA3aU9"
      },
      "execution_count": 80,
      "outputs": []
    },
    {
      "cell_type": "code",
      "source": [
        "matrix = confusion_matrix(y_test, y_pred)\n",
        "matrix = matrix.astype('float') / matrix.sum(axis=1)[:, np.newaxis]\n",
        "\n",
        "plt.figure(figsize=(16,7))\n",
        "sns.set(font_scale=1.4)\n",
        "sns.heatmap(matrix, annot=True, annot_kws={'size':10},\n",
        "            cmap=plt.cm.Greens, linewidths=0.2)\n",
        "\n",
        "class_names = ['Errou', 'Acertou']\n",
        "tick_marks = np.arange(len(class_names))\n",
        "tick_marks2 = tick_marks + 0.5\n",
        "plt.xticks(tick_marks, class_names, rotation=25)\n",
        "plt.yticks(tick_marks2, class_names, rotation=0)\n",
        "plt.xlabel('Predicted label')\n",
        "plt.ylabel('True label')\n",
        "plt.title('Confusion Matrix for Random Forest Model')\n",
        "plt.show()"
      ],
      "metadata": {
        "colab": {
          "base_uri": "https://localhost:8080/",
          "height": 502
        },
        "id": "Uox5LK_H35CT",
        "outputId": "596dcc6b-aa57-4ee5-ffc2-1c6855f6455d"
      },
      "execution_count": 81,
      "outputs": [
        {
          "output_type": "display_data",
          "data": {
            "text/plain": [
              "<Figure size 1152x504 with 2 Axes>"
            ],
            "image/png": "[encoded data removed]"
          },
          "metadata": {}
        }
      ]
    },
    {
      "cell_type": "code",
      "source": [
        "print(\"Accuracy:\",metrics.accuracy_score(y_test, y_pred))\n",
        "print(classification_report(y_test, y_pred))\n",
        "print(f1_score(y_test, y_pred))\n",
        "plt.barh(df_model.columns, xgb.feature_importances_)"
      ],
      "metadata": {
        "colab": {
          "base_uri": "https://localhost:8080/",
          "height": 492
        },
        "id": "ZPNueqgV3WOX",
        "outputId": "12b15819-a84f-44e6-c15e-286ecbfd1afe"
      },
      "execution_count": 82,
      "outputs": [
        {
          "output_type": "stream",
          "name": "stdout",
          "text": [
            "Accuracy: 0.7150146899644348\n",
            "              precision    recall  f1-score   support\n",
            "\n",
            "           0       0.70      0.74      0.72     19338\n",
            "           1       0.73      0.69      0.71     19464\n",
            "\n",
            "    accuracy                           0.72     38802\n",
            "   macro avg       0.72      0.72      0.71     38802\n",
            "weighted avg       0.72      0.72      0.71     38802\n",
            "\n",
            "0.7086626620297186\n"
          ]
        },
        {
          "output_type": "execute_result",
          "data": {
            "text/plain": [
              "<BarContainer object of 20 artists>"
            ]
          },
          "metadata": {},
          "execution_count": 82
        },
        {
          "output_type": "display_data",
          "data": {
            "text/plain": [
              "<Figure size 432x288 with 1 Axes>"
            ],
            "image/png": "[encoded data removed]"
          },
          "metadata": {}
        }
      ]
    },
    {
      "cell_type": "markdown",
      "metadata": {
        "id": "AYbvJ2zZWlLf"
      },
      "source": [
        "##7-Definindo modelo\n",
        "Rede Neural"
      ]
    },
    {
      "cell_type": "code",
      "execution_count": null,
      "metadata": {
        "id": "FgsElyl4XQ5S"
      },
      "outputs": [],
      "source": [
        "import matplotlib.pyplot as plt\n",
        "import tensorflow as tf\n",
        "from tensorflow.keras.models import Sequential\n",
        "from tensorflow.keras.layers import Dense,LSTM\n",
        "from tensorflow.keras.optimizers import Adam\n",
        "from tensorflow.keras.callbacks import ReduceLROnPlateau"
      ]
    },
    {
      "cell_type": "code",
      "execution_count": null,
      "metadata": {
        "id": "-rf0YlnROrfN"
      },
      "outputs": [],
      "source": [
        "reduce_lr = ReduceLROnPlateau(monitor='accuracy', factor=0.2,patience=5, min_lr=0.001)"
      ]
    },
    {
      "cell_type": "code",
      "execution_count": null,
      "metadata": {
        "id": "7lQkH27LXinx"
      },
      "outputs": [],
      "source": [
        "model = Sequential()\n",
        "model.add(Dense(512, input_dim=X_test.shape[1], activation='relu'))\n",
        "model.add(Dense(256, activation='relu'))\n",
        "model.add(Dense(128, activation='relu'))\n",
        "model.add(Dense(64, activation='relu'))\n",
        "model.add(Dense(32, activation='relu'))\n",
        "model.add(Dense(16, activation='relu'))\n",
        "model.add(Dense(1, activation='sigmoid'))\n",
        "\n",
        "opt = Adam(learning_rate=0.0001)\n",
        "\n",
        "model.compile(loss='binary_crossentropy', optimizer=opt, metrics=['accuracy'])\n",
        "\n",
        "hist = model.fit(X_train, y_train, epochs=200, batch_size=64, verbose=1, callbacks=[reduce_lr])"
      ]
    },
    {
      "cell_type": "code",
      "execution_count": null,
      "metadata": {
        "id": "3ee3yTi83MFn"
      },
      "outputs": [],
      "source": [
        "y_pred = model.predict(X_test)\n",
        "y_pred = [int(round(x[0])) for x in y_pred]\n",
        "sklearn.metrics.accuracy_score(y_test, y_pred)"
      ]
    },
    {
      "cell_type": "code",
      "execution_count": null,
      "metadata": {
        "id": "pYNDB8iniBqt"
      },
      "outputs": [],
      "source": [
        "y_pred"
      ]
    },
    {
      "cell_type": "code",
      "execution_count": null,
      "metadata": {
        "id": "o_Sr-Aa7XJ7Y"
      },
      "outputs": [],
      "source": [
        "from sklearn.metrics import accuracy_score, confusion_matrix, classification_report, f1_score\n",
        "import seaborn as sns\n",
        "from sklearn import metrics\n",
        "\n",
        "matrix = confusion_matrix(y_test, y_pred)\n",
        "matrix = matrix.astype('float') / matrix.sum(axis=1)[:, np.newaxis]\n",
        "\n",
        "plt.figure(figsize=(16,7))\n",
        "sns.set(font_scale=1.4)\n",
        "sns.heatmap(matrix, annot=True, annot_kws={'size':10},\n",
        "            cmap=plt.cm.Greens, linewidths=0.2)\n",
        "\n",
        "class_names = ['Errou', 'Acertou']\n",
        "tick_marks = np.arange(len(class_names))\n",
        "tick_marks2 = tick_marks + 0.5\n",
        "plt.xticks(tick_marks, class_names, rotation=25)\n",
        "plt.yticks(tick_marks2, class_names, rotation=0)\n",
        "plt.xlabel('Predicted label')\n",
        "plt.ylabel('True label')\n",
        "plt.title('Confusion Matrix for Neural Network')\n",
        "plt.show()"
      ]
    },
    {
      "cell_type": "code",
      "execution_count": null,
      "metadata": {
        "id": "anGGH2EsXOX5"
      },
      "outputs": [],
      "source": [
        "print(\"Accuracy:\",metrics.accuracy_score(y_test, y_pred))"
      ]
    },
    {
      "cell_type": "code",
      "execution_count": null,
      "metadata": {
        "id": "TD9QvfpfXP9a"
      },
      "outputs": [],
      "source": [
        "print(classification_report(y_test, y_pred))\n",
        "print(f1_score(y_test, y_pred))"
      ]
    },
    {
      "cell_type": "markdown",
      "metadata": {
        "id": "EWET8m8eOuyy"
      },
      "source": [
        "##8- Evaluating answers"
      ]
    },
    {
      "cell_type": "code",
      "execution_count": 108,
      "metadata": {
        "id": "26MeQpKROz4W"
      },
      "outputs": [],
      "source": [
        "df_respostas_101 = pd.read_csv('/content/drive/MyDrive/Sigma/QConcursos/Submit.csv',sep=';')\n",
        "#subjects = pd.read_csv('/content/drive/MyDrive/Sigma/QConcursos/subjects_questions.csv')"
      ]
    },
    {
      "cell_type": "code",
      "execution_count": 109,
      "metadata": {
        "id": "-DBly7lW_AfJ"
      },
      "outputs": [],
      "source": [
        "df_respostas_101 = df_respostas_101.drop('city', axis=1)\n",
        "df_respostas_101 = df_respostas_101.drop('country', axis=1)\n",
        "df_respostas_101 = df_respostas_101.drop('device', axis=1)\n",
        "df_respostas_101 = df_respostas_101.drop('device_type', axis=1)\n",
        "df_respostas_101 = df_respostas_101.drop('os', axis=1)\n",
        "df_respostas_101 = df_respostas_101.drop('created_at', axis=1)\n",
        "df_respostas_101 = df_respostas_101.drop('nullified', axis=1)\n",
        "df_respostas_101 = df_respostas_101.drop('product_id', axis=1)\n",
        "df_respostas_101 = df_respostas_101.drop('publication_year', axis=1)\n",
        "df_respostas_101 = df_respostas_101.drop('row', axis=1)\n",
        "df_respostas_101 = df_respostas_101.drop('gp:degree course', axis=1)\n",
        "df_respostas_101 = df_respostas_101.drop('gp:school type', axis=1)\n",
        "df_respostas_101 = df_respostas_101.drop('gp:college type', axis=1)\n"
      ]
    },
    {
      "cell_type": "code",
      "source": [
        "df_respostas_101['score_user'] =np.nan\n",
        "df_respostas_101['score_questao'] =np.nan"
      ],
      "metadata": {
        "id": "lN8MmBEt0mu-"
      },
      "execution_count": 110,
      "outputs": []
    },
    {
      "cell_type": "code",
      "source": [
        "for rowIndex in range(1,len(df_respostas_101['score_questao'].unique())):\n",
        "  df_respostas_101.loc[df_respostas_101['score_questao'] == rowIndex , 'score_questao'] = df_model.loc[df_model['score_questao'] == rowIndex]"
      ],
      "metadata": {
        "id": "0qnDDHu10ecj"
      },
      "execution_count": 111,
      "outputs": []
    },
    {
      "cell_type": "code",
      "source": [
        "for rowIndex in range(1,len(df_respostas_101['novo_user_id'].unique())):\n",
        "  df_respostas_101.loc[df_respostas_101['novo_user_id'] == rowIndex , 'score_user'] = df_model.loc[df_model['novo_user_id'] == rowIndex]"
      ],
      "metadata": {
        "id": "CNNgVSZ20fDo"
      },
      "execution_count": 112,
      "outputs": []
    },
    {
      "cell_type": "code",
      "source": [
        "import numpy as np\n",
        "\n",
        "m = df_respostas_101['gp:previous experience'].isna()\n",
        "\n",
        "l = m.sum()\n",
        "\n",
        "s = np.random.choice(['beginner','experient','professional','highly_experient'], size=l,p=[0.57628192,0.28581979,0.09833298,0.03956531])\n",
        "\n",
        "df_respostas_101.loc[m, 'gp:previous experience'] = s"
      ],
      "metadata": {
        "id": "CAZoeiBR2ONj"
      },
      "execution_count": 113,
      "outputs": []
    },
    {
      "cell_type": "code",
      "execution_count": 114,
      "metadata": {
        "id": "ZZzM_jQeALKA"
      },
      "outputs": [],
      "source": [
        "from sklearn.preprocessing import LabelEncoder\n",
        "\n",
        "le = LabelEncoder()\n",
        "columns_to_encode =list(df_respostas_101.select_dtypes(include=['category','object']))\n",
        "for feature in columns_to_encode:\n",
        "  df_respostas_101[feature] = le.fit_transform(df_respostas_101[feature].astype(str))\n"
      ]
    },
    {
      "cell_type": "code",
      "execution_count": 115,
      "metadata": {
        "id": "mXsQnkX9BGSx"
      },
      "outputs": [],
      "source": [
        "df_respostas_101 = df_respostas_101.drop('acertou',axis=1)\n",
        "df_respostas_101 = df_respostas_101.fillna(0)"
      ]
    },
    {
      "cell_type": "code",
      "execution_count": 116,
      "metadata": {
        "id": "RGato4E-_r8x"
      },
      "outputs": [],
      "source": [
        "x = df_respostas_101.to_numpy()"
      ]
    },
    {
      "cell_type": "code",
      "execution_count": 117,
      "metadata": {
        "id": "1CZDjctp_eWi",
        "colab": {
          "base_uri": "https://localhost:8080/"
        },
        "outputId": "95960e46-ec8e-431c-a8c4-8ba19bd9d81b"
      },
      "outputs": [
        {
          "output_type": "execute_result",
          "data": {
            "text/plain": [
              "array([[-1.73196421e+00,  2.31294738e+00,  8.54337538e-01, ...,\n",
              "         1.52122505e+00,  1.41417821e+02,  0.00000000e+00],\n",
              "       [-1.73179100e+00,  1.59766055e-01,  1.13225223e+00, ...,\n",
              "        -8.45027545e-01, -7.07124460e-03,  0.00000000e+00],\n",
              "       [-1.73161780e+00,  2.31294738e+00,  2.05934783e-02, ...,\n",
              "        -3.09526482e-01, -7.07124460e-03,  0.00000000e+00],\n",
              "       ...,\n",
              "       [ 1.73161780e+00,  1.59766055e-01, -1.57741597e+00, ...,\n",
              "         1.20874999e+00, -7.07124460e-03,  0.00000000e+00],\n",
              "       [ 1.73179100e+00, -1.99341527e+00, -1.78585199e+00, ...,\n",
              "         1.21892160e+00, -7.07124460e-03,  0.00000000e+00],\n",
              "       [ 1.73196421e+00,  2.31294738e+00,  1.13225223e+00, ...,\n",
              "         1.09414840e+00, -7.07124460e-03,  0.00000000e+00]])"
            ]
          },
          "metadata": {},
          "execution_count": 117
        }
      ],
      "source": [
        "scaler = StandardScaler()\n",
        "scaler.fit_transform(x)"
      ]
    },
    {
      "cell_type": "code",
      "execution_count": 118,
      "metadata": {
        "id": "N0bu6H4d-9ZT"
      },
      "outputs": [],
      "source": [
        "y_pred=rfc.predict(x)"
      ]
    },
    {
      "cell_type": "code",
      "source": [
        "pd.Series(y_pred).value_counts()"
      ],
      "metadata": {
        "id": "GyI_klAkNW4V",
        "colab": {
          "base_uri": "https://localhost:8080/"
        },
        "outputId": "adb2150b-35d0-447b-9f5c-20a421b045a2"
      },
      "execution_count": 119,
      "outputs": [
        {
          "output_type": "execute_result",
          "data": {
            "text/plain": [
              "1    19924\n",
              "0       76\n",
              "dtype: int64"
            ]
          },
          "metadata": {},
          "execution_count": 119
        }
      ]
    },
    {
      "cell_type": "code",
      "source": [
        "pd.DataFrame(y_pred).to_csv('/content/drive/MyDrive/Sigma/QConcursos/respostas101.csv',index=False)"
      ],
      "metadata": {
        "id": "Md2K6qrSMI8C"
      },
      "execution_count": 120,
      "outputs": []
    },
    {
      "cell_type": "code",
      "source": [
        "#import joblib\n",
        "\n",
        "#joblib.dump(rfc, \"/content/drive/MyDrive/Sigma/QConcursos/random_forest.joblib\")"
      ],
      "metadata": {
        "id": "cpcxEy94PeZH"
      },
      "execution_count": 121,
      "outputs": []
    },
    {
      "cell_type": "code",
      "source": [
        "#test = pd.read_csv('/content/drive/MyDrive/Sigma/QConcursos/respostas101.csv',sep=',')\n",
        "#test.value_counts()"
      ],
      "metadata": {
        "id": "h6nOD8nGFbQd"
      },
      "execution_count": 122,
      "outputs": []
    }
  ],
  "metadata": {
    "colab": {
      "collapsed_sections": [
        "tsXq5Uqf2JOU",
        "WKhQk9Xp1z34",
        "Umu5bQ4KT36p",
        "Y81od6UT2m2w",
        "fVg5zs_3CHhV",
        "zzHs0wXrOe1z",
        "TktlczbmWvuX",
        "0UBG1ojkbhKA",
        "GgM26EsAbsMI",
        "2R1OqDUZbyUY",
        "AYbvJ2zZWlLf"
      ],
      "provenance": [],
      "authorship_tag": "ABX9TyPandjiUrkvvzCxGVpEttTK",
      "include_colab_link": true
    },
    "gpuClass": "standard",
    "kernelspec": {
      "display_name": "Python 3",
      "name": "python3"
    },
    "language_info": {
      "name": "python"
    }
  },
  "nbformat": 4,
  "nbformat_minor": 0
}