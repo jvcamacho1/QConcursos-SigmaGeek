{
  "nbformat": 4,
  "nbformat_minor": 0,
  "metadata": {
    "colab": {
      "provenance": [],
      "authorship_tag": "ABX9TyN4T2HwKYJQKVZixdRBx2qd",
      "include_colab_link": true
    },
    "kernelspec": {
      "name": "python3",
      "display_name": "Python 3"
    },
    "language_info": {
      "name": "python"
    }
  },
  "cells": [
    {
      "cell_type": "markdown",
      "metadata": {
        "id": "view-in-github",
        "colab_type": "text"
      },
      "source": [
        "<a href=\"https://colab.research.google.com/github/jvcamacho1/QConcursos-SigmaGeek/blob/main/QConcursos_SigmaGeek.ipynb\" target=\"_parent\"><img src=\"https://colab.research.google.com/assets/colab-badge.svg\" alt=\"Open In Colab\"/></a>"
      ]
    },
    {
      "cell_type": "code",
      "execution_count": null,
      "metadata": {
        "id": "6yhcZYghcUFN"
      },
      "outputs": [],
      "source": [
        "import pandas as pd\n",
        "import numpy as np\n",
        "import matplotlib.pyplot as plt\n",
        "from sklearn.model_selection import train_test_split\n",
        "import sklearn\n",
        "from sklearn.preprocessing import LabelEncoder"
      ]
    },
    {
      "cell_type": "code",
      "source": [
        "from google.colab import drive\n",
        "drive.mount('/content/drive')"
      ],
      "metadata": {
        "colab": {
          "base_uri": "https://localhost:8080/"
        },
        "id": "NMk1fsIec_Ah",
        "outputId": "d13dadd5-61f1-4087-e325-829e565a2e71"
      },
      "execution_count": null,
      "outputs": [
        {
          "output_type": "stream",
          "name": "stdout",
          "text": [
            "Mounted at /content/drive\n"
          ]
        }
      ]
    },
    {
      "cell_type": "markdown",
      "source": [
        "##1- Understading the Data\n",
        "Looking for unique values in the data, for future classification and normalization"
      ],
      "metadata": {
        "id": "tsXq5Uqf2JOU"
      }
    },
    {
      "cell_type": "code",
      "source": [
        "def is_unique(s):\n",
        "    a = s.to_numpy()\n",
        "    return (a[0] == a).all()"
      ],
      "metadata": {
        "id": "H454wi9uqOEa"
      },
      "execution_count": null,
      "outputs": []
    },
    {
      "cell_type": "code",
      "source": [
        "df_model = pd.read_csv('/content/drive/MyDrive/Sigma/QConcursos/Dataset_model.csv')\n",
        "df_model.shape"
      ],
      "metadata": {
        "colab": {
          "base_uri": "https://localhost:8080/"
        },
        "id": "kzAKt9DJcgba",
        "outputId": "881805ce-136b-4ebe-840a-3bec7cfb6f8d"
      },
      "execution_count": null,
      "outputs": [
        {
          "output_type": "stream",
          "name": "stderr",
          "text": [
            "/usr/local/lib/python3.7/dist-packages/IPython/core/interactiveshell.py:3326: DtypeWarning: Columns (9,10,12) have mixed types.Specify dtype option on import or set low_memory=False.\n",
            "  exec(code_obj, self.user_global_ns, self.user_ns)\n"
          ]
        },
        {
          "output_type": "execute_result",
          "data": {
            "text/plain": [
              "(2000000, 32)"
            ]
          },
          "metadata": {},
          "execution_count": 4
        }
      ]
    },
    {
      "cell_type": "code",
      "source": [
        "df_model.head()"
      ],
      "metadata": {
        "colab": {
          "base_uri": "https://localhost:8080/",
          "height": 403
        },
        "id": "18ELnKAZroPO",
        "outputId": "ca4d22c4-a188-4a9b-c427-23f59c7f3845"
      },
      "execution_count": null,
      "outputs": [
        {
          "output_type": "execute_result",
          "data": {
            "text/plain": [
              "   novo_user_id            city country        device  \\\n",
              "0             1  Rio de Janeiro  Brazil  Apple iPhone   \n",
              "1             1  Rio de Janeiro  Brazil  Apple iPhone   \n",
              "2             1  Rio de Janeiro  Brazil  Apple iPhone   \n",
              "3             1  Rio de Janeiro  Brazil  Apple iPhone   \n",
              "4             1  Rio de Janeiro  Brazil  Apple iPhone   \n",
              "\n",
              "               device_type          os platform          region  \\\n",
              "0  Apple iPhone 11 Pro Max  ios 15.4.1      iOS  Rio de Janeiro   \n",
              "1  Apple iPhone 11 Pro Max  ios 15.4.1      iOS  Rio de Janeiro   \n",
              "2  Apple iPhone 11 Pro Max  ios 15.4.1      iOS  Rio de Janeiro   \n",
              "3  Apple iPhone 11 Pro Max  ios 15.4.1      iOS  Rio de Janeiro   \n",
              "4  Apple iPhone 11 Pro Max  ios 15.4.1      iOS  Rio de Janeiro   \n",
              "\n",
              "                 gp:carrers gp:college type  ... institute_id  \\\n",
              "0  Tribunal, Administrativa             NaN  ...       4126.0   \n",
              "1  Tribunal, Administrativa             NaN  ...       4126.0   \n",
              "2  Tribunal, Administrativa             NaN  ...       4126.0   \n",
              "3  Tribunal, Administrativa             NaN  ...       4126.0   \n",
              "4  Tribunal, Administrativa             NaN  ...       4126.0   \n",
              "\n",
              "  knowledge_area_id modality_id nullified outdated  product_id  \\\n",
              "0              13.0         1.0       0.0      0.0         1.0   \n",
              "1              13.0         1.0       0.0      0.0         1.0   \n",
              "2              13.0         1.0       0.0      0.0         1.0   \n",
              "3              13.0         1.0       0.0      0.0         1.0   \n",
              "4              13.0         1.0       0.0      0.0         1.0   \n",
              "\n",
              "  publication_year  right_answer  scholarity_id  novo_question_id  \n",
              "0           2022.0             A            2.0            489400  \n",
              "1           2022.0             C            2.0            489399  \n",
              "2           2022.0             D            2.0            489398  \n",
              "3           2022.0             A            2.0            489397  \n",
              "4           2022.0             E            2.0            489396  \n",
              "\n",
              "[5 rows x 32 columns]"
            ],
            "text/html": [
              "\n",
              "  <div id=\"df-56e7f495-541b-41c9-9f4b-a4256bc382be\">\n",
              "    <div class=\"colab-df-container\">\n",
              "      <div>\n",
              "<style scoped>\n",
              "    .dataframe tbody tr th:only-of-type {\n",
              "        vertical-align: middle;\n",
              "    }\n",
              "\n",
              "    .dataframe tbody tr th {\n",
              "        vertical-align: top;\n",
              "    }\n",
              "\n",
              "    .dataframe thead th {\n",
              "        text-align: right;\n",
              "    }\n",
              "</style>\n",
              "<table border=\"1\" class=\"dataframe\">\n",
              "  <thead>\n",
              "    <tr style=\"text-align: right;\">\n",
              "      <th></th>\n",
              "      <th>novo_user_id</th>\n",
              "      <th>city</th>\n",
              "      <th>country</th>\n",
              "      <th>device</th>\n",
              "      <th>device_type</th>\n",
              "      <th>os</th>\n",
              "      <th>platform</th>\n",
              "      <th>region</th>\n",
              "      <th>gp:carrers</th>\n",
              "      <th>gp:college type</th>\n",
              "      <th>...</th>\n",
              "      <th>institute_id</th>\n",
              "      <th>knowledge_area_id</th>\n",
              "      <th>modality_id</th>\n",
              "      <th>nullified</th>\n",
              "      <th>outdated</th>\n",
              "      <th>product_id</th>\n",
              "      <th>publication_year</th>\n",
              "      <th>right_answer</th>\n",
              "      <th>scholarity_id</th>\n",
              "      <th>novo_question_id</th>\n",
              "    </tr>\n",
              "  </thead>\n",
              "  <tbody>\n",
              "    <tr>\n",
              "      <th>0</th>\n",
              "      <td>1</td>\n",
              "      <td>Rio de Janeiro</td>\n",
              "      <td>Brazil</td>\n",
              "      <td>Apple iPhone</td>\n",
              "      <td>Apple iPhone 11 Pro Max</td>\n",
              "      <td>ios 15.4.1</td>\n",
              "      <td>iOS</td>\n",
              "      <td>Rio de Janeiro</td>\n",
              "      <td>Tribunal, Administrativa</td>\n",
              "      <td>NaN</td>\n",
              "      <td>...</td>\n",
              "      <td>4126.0</td>\n",
              "      <td>13.0</td>\n",
              "      <td>1.0</td>\n",
              "      <td>0.0</td>\n",
              "      <td>0.0</td>\n",
              "      <td>1.0</td>\n",
              "      <td>2022.0</td>\n",
              "      <td>A</td>\n",
              "      <td>2.0</td>\n",
              "      <td>489400</td>\n",
              "    </tr>\n",
              "    <tr>\n",
              "      <th>1</th>\n",
              "      <td>1</td>\n",
              "      <td>Rio de Janeiro</td>\n",
              "      <td>Brazil</td>\n",
              "      <td>Apple iPhone</td>\n",
              "      <td>Apple iPhone 11 Pro Max</td>\n",
              "      <td>ios 15.4.1</td>\n",
              "      <td>iOS</td>\n",
              "      <td>Rio de Janeiro</td>\n",
              "      <td>Tribunal, Administrativa</td>\n",
              "      <td>NaN</td>\n",
              "      <td>...</td>\n",
              "      <td>4126.0</td>\n",
              "      <td>13.0</td>\n",
              "      <td>1.0</td>\n",
              "      <td>0.0</td>\n",
              "      <td>0.0</td>\n",
              "      <td>1.0</td>\n",
              "      <td>2022.0</td>\n",
              "      <td>C</td>\n",
              "      <td>2.0</td>\n",
              "      <td>489399</td>\n",
              "    </tr>\n",
              "    <tr>\n",
              "      <th>2</th>\n",
              "      <td>1</td>\n",
              "      <td>Rio de Janeiro</td>\n",
              "      <td>Brazil</td>\n",
              "      <td>Apple iPhone</td>\n",
              "      <td>Apple iPhone 11 Pro Max</td>\n",
              "      <td>ios 15.4.1</td>\n",
              "      <td>iOS</td>\n",
              "      <td>Rio de Janeiro</td>\n",
              "      <td>Tribunal, Administrativa</td>\n",
              "      <td>NaN</td>\n",
              "      <td>...</td>\n",
              "      <td>4126.0</td>\n",
              "      <td>13.0</td>\n",
              "      <td>1.0</td>\n",
              "      <td>0.0</td>\n",
              "      <td>0.0</td>\n",
              "      <td>1.0</td>\n",
              "      <td>2022.0</td>\n",
              "      <td>D</td>\n",
              "      <td>2.0</td>\n",
              "      <td>489398</td>\n",
              "    </tr>\n",
              "    <tr>\n",
              "      <th>3</th>\n",
              "      <td>1</td>\n",
              "      <td>Rio de Janeiro</td>\n",
              "      <td>Brazil</td>\n",
              "      <td>Apple iPhone</td>\n",
              "      <td>Apple iPhone 11 Pro Max</td>\n",
              "      <td>ios 15.4.1</td>\n",
              "      <td>iOS</td>\n",
              "      <td>Rio de Janeiro</td>\n",
              "      <td>Tribunal, Administrativa</td>\n",
              "      <td>NaN</td>\n",
              "      <td>...</td>\n",
              "      <td>4126.0</td>\n",
              "      <td>13.0</td>\n",
              "      <td>1.0</td>\n",
              "      <td>0.0</td>\n",
              "      <td>0.0</td>\n",
              "      <td>1.0</td>\n",
              "      <td>2022.0</td>\n",
              "      <td>A</td>\n",
              "      <td>2.0</td>\n",
              "      <td>489397</td>\n",
              "    </tr>\n",
              "    <tr>\n",
              "      <th>4</th>\n",
              "      <td>1</td>\n",
              "      <td>Rio de Janeiro</td>\n",
              "      <td>Brazil</td>\n",
              "      <td>Apple iPhone</td>\n",
              "      <td>Apple iPhone 11 Pro Max</td>\n",
              "      <td>ios 15.4.1</td>\n",
              "      <td>iOS</td>\n",
              "      <td>Rio de Janeiro</td>\n",
              "      <td>Tribunal, Administrativa</td>\n",
              "      <td>NaN</td>\n",
              "      <td>...</td>\n",
              "      <td>4126.0</td>\n",
              "      <td>13.0</td>\n",
              "      <td>1.0</td>\n",
              "      <td>0.0</td>\n",
              "      <td>0.0</td>\n",
              "      <td>1.0</td>\n",
              "      <td>2022.0</td>\n",
              "      <td>E</td>\n",
              "      <td>2.0</td>\n",
              "      <td>489396</td>\n",
              "    </tr>\n",
              "  </tbody>\n",
              "</table>\n",
              "<p>5 rows × 32 columns</p>\n",
              "</div>\n",
              "      <button class=\"colab-df-convert\" onclick=\"convertToInteractive('df-56e7f495-541b-41c9-9f4b-a4256bc382be')\"\n",
              "              title=\"Convert this dataframe to an interactive table.\"\n",
              "              style=\"display:none;\">\n",
              "        \n",
              "  <svg xmlns=\"http://www.w3.org/2000/svg\" height=\"24px\"viewBox=\"0 0 24 24\"\n",
              "       width=\"24px\">\n",
              "    <path d=\"M0 0h24v24H0V0z\" fill=\"none\"/>\n",
              "    <path d=\"M18.56 5.44l.94 2.06.94-2.06 2.06-.94-2.06-.94-.94-2.06-.94 2.06-2.06.94zm-11 1L8.5 8.5l.94-2.06 2.06-.94-2.06-.94L8.5 2.5l-.94 2.06-2.06.94zm10 10l.94 2.06.94-2.06 2.06-.94-2.06-.94-.94-2.06-.94 2.06-2.06.94z\"/><path d=\"M17.41 7.96l-1.37-1.37c-.4-.4-.92-.59-1.43-.59-.52 0-1.04.2-1.43.59L10.3 9.45l-7.72 7.72c-.78.78-.78 2.05 0 2.83L4 21.41c.39.39.9.59 1.41.59.51 0 1.02-.2 1.41-.59l7.78-7.78 2.81-2.81c.8-.78.8-2.07 0-2.86zM5.41 20L4 18.59l7.72-7.72 1.47 1.35L5.41 20z\"/>\n",
              "  </svg>\n",
              "      </button>\n",
              "      \n",
              "  <style>\n",
              "    .colab-df-container {\n",
              "      display:flex;\n",
              "      flex-wrap:wrap;\n",
              "      gap: 12px;\n",
              "    }\n",
              "\n",
              "    .colab-df-convert {\n",
              "      background-color: #E8F0FE;\n",
              "      border: none;\n",
              "      border-radius: 50%;\n",
              "      cursor: pointer;\n",
              "      display: none;\n",
              "      fill: #1967D2;\n",
              "      height: 32px;\n",
              "      padding: 0 0 0 0;\n",
              "      width: 32px;\n",
              "    }\n",
              "\n",
              "    .colab-df-convert:hover {\n",
              "      background-color: #E2EBFA;\n",
              "      box-shadow: 0px 1px 2px rgba(60, 64, 67, 0.3), 0px 1px 3px 1px rgba(60, 64, 67, 0.15);\n",
              "      fill: #174EA6;\n",
              "    }\n",
              "\n",
              "    [theme=dark] .colab-df-convert {\n",
              "      background-color: #3B4455;\n",
              "      fill: #D2E3FC;\n",
              "    }\n",
              "\n",
              "    [theme=dark] .colab-df-convert:hover {\n",
              "      background-color: #434B5C;\n",
              "      box-shadow: 0px 1px 3px 1px rgba(0, 0, 0, 0.15);\n",
              "      filter: drop-shadow(0px 1px 2px rgba(0, 0, 0, 0.3));\n",
              "      fill: #FFFFFF;\n",
              "    }\n",
              "  </style>\n",
              "\n",
              "      <script>\n",
              "        const buttonEl =\n",
              "          document.querySelector('#df-56e7f495-541b-41c9-9f4b-a4256bc382be button.colab-df-convert');\n",
              "        buttonEl.style.display =\n",
              "          google.colab.kernel.accessAllowed ? 'block' : 'none';\n",
              "\n",
              "        async function convertToInteractive(key) {\n",
              "          const element = document.querySelector('#df-56e7f495-541b-41c9-9f4b-a4256bc382be');\n",
              "          const dataTable =\n",
              "            await google.colab.kernel.invokeFunction('convertToInteractive',\n",
              "                                                     [key], {});\n",
              "          if (!dataTable) return;\n",
              "\n",
              "          const docLinkHtml = 'Like what you see? Visit the ' +\n",
              "            '<a target=\"_blank\" href=https://colab.research.google.com/notebooks/data_table.ipynb>data table notebook</a>'\n",
              "            + ' to learn more about interactive tables.';\n",
              "          element.innerHTML = '';\n",
              "          dataTable['output_type'] = 'display_data';\n",
              "          await google.colab.output.renderOutput(dataTable, element);\n",
              "          const docLink = document.createElement('div');\n",
              "          docLink.innerHTML = docLinkHtml;\n",
              "          element.appendChild(docLink);\n",
              "        }\n",
              "      </script>\n",
              "    </div>\n",
              "  </div>\n",
              "  "
            ]
          },
          "metadata": {},
          "execution_count": 5
        }
      ]
    },
    {
      "cell_type": "code",
      "source": [
        "submit = pd.read_csv('/content/drive/MyDrive/Sigma/QConcursos/Submit.csv',on_bad_lines='skip')\n",
        "submit\n",
        "submit.shape"
      ],
      "metadata": {
        "colab": {
          "base_uri": "https://localhost:8080/"
        },
        "id": "kggMZzy5kWmJ",
        "outputId": "2fccd70e-2f07-421d-aab7-3569059c7f84"
      },
      "execution_count": null,
      "outputs": [
        {
          "output_type": "execute_result",
          "data": {
            "text/plain": [
              "(16053, 1)"
            ]
          },
          "metadata": {},
          "execution_count": 6
        }
      ]
    },
    {
      "cell_type": "code",
      "source": [
        "subject_questions = pd.read_csv('/content/drive/MyDrive/Sigma/QConcursos/subjects_questions.csv')\n",
        "subject_questions.shape\n",
        "subject_questions.head()"
      ],
      "metadata": {
        "colab": {
          "base_uri": "https://localhost:8080/",
          "height": 206
        },
        "id": "chO2S4bikiT6",
        "outputId": "47868bf0-fd2f-400d-b8a2-f46281e6cd87"
      },
      "execution_count": null,
      "outputs": [
        {
          "output_type": "execute_result",
          "data": {
            "text/plain": [
              "   subject_id  novo_question_id\n",
              "0     14655.0                15\n",
              "1     19271.0                15\n",
              "2     14655.0                16\n",
              "3     19271.0                16\n",
              "4     14655.0                17"
            ],
            "text/html": [
              "\n",
              "  <div id=\"df-e4581010-8845-4925-9c8f-b18588556003\">\n",
              "    <div class=\"colab-df-container\">\n",
              "      <div>\n",
              "<style scoped>\n",
              "    .dataframe tbody tr th:only-of-type {\n",
              "        vertical-align: middle;\n",
              "    }\n",
              "\n",
              "    .dataframe tbody tr th {\n",
              "        vertical-align: top;\n",
              "    }\n",
              "\n",
              "    .dataframe thead th {\n",
              "        text-align: right;\n",
              "    }\n",
              "</style>\n",
              "<table border=\"1\" class=\"dataframe\">\n",
              "  <thead>\n",
              "    <tr style=\"text-align: right;\">\n",
              "      <th></th>\n",
              "      <th>subject_id</th>\n",
              "      <th>novo_question_id</th>\n",
              "    </tr>\n",
              "  </thead>\n",
              "  <tbody>\n",
              "    <tr>\n",
              "      <th>0</th>\n",
              "      <td>14655.0</td>\n",
              "      <td>15</td>\n",
              "    </tr>\n",
              "    <tr>\n",
              "      <th>1</th>\n",
              "      <td>19271.0</td>\n",
              "      <td>15</td>\n",
              "    </tr>\n",
              "    <tr>\n",
              "      <th>2</th>\n",
              "      <td>14655.0</td>\n",
              "      <td>16</td>\n",
              "    </tr>\n",
              "    <tr>\n",
              "      <th>3</th>\n",
              "      <td>19271.0</td>\n",
              "      <td>16</td>\n",
              "    </tr>\n",
              "    <tr>\n",
              "      <th>4</th>\n",
              "      <td>14655.0</td>\n",
              "      <td>17</td>\n",
              "    </tr>\n",
              "  </tbody>\n",
              "</table>\n",
              "</div>\n",
              "      <button class=\"colab-df-convert\" onclick=\"convertToInteractive('df-e4581010-8845-4925-9c8f-b18588556003')\"\n",
              "              title=\"Convert this dataframe to an interactive table.\"\n",
              "              style=\"display:none;\">\n",
              "        \n",
              "  <svg xmlns=\"http://www.w3.org/2000/svg\" height=\"24px\"viewBox=\"0 0 24 24\"\n",
              "       width=\"24px\">\n",
              "    <path d=\"M0 0h24v24H0V0z\" fill=\"none\"/>\n",
              "    <path d=\"M18.56 5.44l.94 2.06.94-2.06 2.06-.94-2.06-.94-.94-2.06-.94 2.06-2.06.94zm-11 1L8.5 8.5l.94-2.06 2.06-.94-2.06-.94L8.5 2.5l-.94 2.06-2.06.94zm10 10l.94 2.06.94-2.06 2.06-.94-2.06-.94-.94-2.06-.94 2.06-2.06.94z\"/><path d=\"M17.41 7.96l-1.37-1.37c-.4-.4-.92-.59-1.43-.59-.52 0-1.04.2-1.43.59L10.3 9.45l-7.72 7.72c-.78.78-.78 2.05 0 2.83L4 21.41c.39.39.9.59 1.41.59.51 0 1.02-.2 1.41-.59l7.78-7.78 2.81-2.81c.8-.78.8-2.07 0-2.86zM5.41 20L4 18.59l7.72-7.72 1.47 1.35L5.41 20z\"/>\n",
              "  </svg>\n",
              "      </button>\n",
              "      \n",
              "  <style>\n",
              "    .colab-df-container {\n",
              "      display:flex;\n",
              "      flex-wrap:wrap;\n",
              "      gap: 12px;\n",
              "    }\n",
              "\n",
              "    .colab-df-convert {\n",
              "      background-color: #E8F0FE;\n",
              "      border: none;\n",
              "      border-radius: 50%;\n",
              "      cursor: pointer;\n",
              "      display: none;\n",
              "      fill: #1967D2;\n",
              "      height: 32px;\n",
              "      padding: 0 0 0 0;\n",
              "      width: 32px;\n",
              "    }\n",
              "\n",
              "    .colab-df-convert:hover {\n",
              "      background-color: #E2EBFA;\n",
              "      box-shadow: 0px 1px 2px rgba(60, 64, 67, 0.3), 0px 1px 3px 1px rgba(60, 64, 67, 0.15);\n",
              "      fill: #174EA6;\n",
              "    }\n",
              "\n",
              "    [theme=dark] .colab-df-convert {\n",
              "      background-color: #3B4455;\n",
              "      fill: #D2E3FC;\n",
              "    }\n",
              "\n",
              "    [theme=dark] .colab-df-convert:hover {\n",
              "      background-color: #434B5C;\n",
              "      box-shadow: 0px 1px 3px 1px rgba(0, 0, 0, 0.15);\n",
              "      filter: drop-shadow(0px 1px 2px rgba(0, 0, 0, 0.3));\n",
              "      fill: #FFFFFF;\n",
              "    }\n",
              "  </style>\n",
              "\n",
              "      <script>\n",
              "        const buttonEl =\n",
              "          document.querySelector('#df-e4581010-8845-4925-9c8f-b18588556003 button.colab-df-convert');\n",
              "        buttonEl.style.display =\n",
              "          google.colab.kernel.accessAllowed ? 'block' : 'none';\n",
              "\n",
              "        async function convertToInteractive(key) {\n",
              "          const element = document.querySelector('#df-e4581010-8845-4925-9c8f-b18588556003');\n",
              "          const dataTable =\n",
              "            await google.colab.kernel.invokeFunction('convertToInteractive',\n",
              "                                                     [key], {});\n",
              "          if (!dataTable) return;\n",
              "\n",
              "          const docLinkHtml = 'Like what you see? Visit the ' +\n",
              "            '<a target=\"_blank\" href=https://colab.research.google.com/notebooks/data_table.ipynb>data table notebook</a>'\n",
              "            + ' to learn more about interactive tables.';\n",
              "          element.innerHTML = '';\n",
              "          dataTable['output_type'] = 'display_data';\n",
              "          await google.colab.output.renderOutput(dataTable, element);\n",
              "          const docLink = document.createElement('div');\n",
              "          docLink.innerHTML = docLinkHtml;\n",
              "          element.appendChild(docLink);\n",
              "        }\n",
              "      </script>\n",
              "    </div>\n",
              "  </div>\n",
              "  "
            ]
          },
          "metadata": {},
          "execution_count": 7
        }
      ]
    },
    {
      "cell_type": "code",
      "source": [
        "df_model.columns"
      ],
      "metadata": {
        "colab": {
          "base_uri": "https://localhost:8080/"
        },
        "id": "_ZPEy4FanGG9",
        "outputId": "14bb8ee0-fbf8-42ea-fb9c-a286f8255d95"
      },
      "execution_count": null,
      "outputs": [
        {
          "output_type": "execute_result",
          "data": {
            "text/plain": [
              "Index(['novo_user_id', 'city', 'country', 'device', 'device_type', 'os',\n",
              "       'platform', 'region', 'gp:carrers', 'gp:college type',\n",
              "       'gp:degree course', 'gp:previous experience', 'gp:school type',\n",
              "       'gp:segment', 'gp:source_project', 'acertou', 'created_at', 'row',\n",
              "       'commented_by_professor', 'difficulty', 'discipline_id',\n",
              "       'examining_board_id', 'institute_id', 'knowledge_area_id',\n",
              "       'modality_id', 'nullified', 'outdated', 'product_id',\n",
              "       'publication_year', 'right_answer', 'scholarity_id',\n",
              "       'novo_question_id'],\n",
              "      dtype='object')"
            ]
          },
          "metadata": {},
          "execution_count": 8
        }
      ]
    },
    {
      "cell_type": "code",
      "source": [
        "df_model.nunique()"
      ],
      "metadata": {
        "colab": {
          "base_uri": "https://localhost:8080/"
        },
        "id": "hL8b0Q5Vmvh1",
        "outputId": "2f483c55-a977-4b80-8e98-3ea514cabf07"
      },
      "execution_count": null,
      "outputs": [
        {
          "output_type": "execute_result",
          "data": {
            "text/plain": [
              "novo_user_id                20000\n",
              "city                         1799\n",
              "country                        18\n",
              "device                        217\n",
              "device_type                   394\n",
              "os                            231\n",
              "platform                        3\n",
              "region                         50\n",
              "gp:carrers                   1451\n",
              "gp:college type                 2\n",
              "gp:degree course               16\n",
              "gp:previous experience          4\n",
              "gp:school type                  6\n",
              "gp:segment                      4\n",
              "gp:source_project               2\n",
              "acertou                         2\n",
              "created_at                1956537\n",
              "row                           100\n",
              "commented_by_professor          2\n",
              "difficulty                      5\n",
              "discipline_id                 225\n",
              "examining_board_id            580\n",
              "institute_id                 3099\n",
              "knowledge_area_id              94\n",
              "modality_id                     2\n",
              "nullified                       2\n",
              "outdated                        2\n",
              "product_id                      5\n",
              "publication_year               23\n",
              "right_answer                    8\n",
              "scholarity_id                   3\n",
              "novo_question_id           498263\n",
              "dtype: int64"
            ]
          },
          "metadata": {},
          "execution_count": 9
        }
      ]
    },
    {
      "cell_type": "code",
      "source": [
        "unique_values= dict()\n",
        "\n",
        "for col in df_model:\n",
        "    unique_values[col] = df_model[col].unique()"
      ],
      "metadata": {
        "id": "8I16LdgvtCjg"
      },
      "execution_count": null,
      "outputs": []
    },
    {
      "cell_type": "code",
      "source": [
        "unique_values['created_at']"
      ],
      "metadata": {
        "colab": {
          "base_uri": "https://localhost:8080/"
        },
        "id": "b6CCyh8j3hZT",
        "outputId": "a5a3e12b-652c-4c1a-8cbb-7e02dbb84b70"
      },
      "execution_count": null,
      "outputs": [
        {
          "output_type": "execute_result",
          "data": {
            "text/plain": [
              "array(['2022-03-20 10:06:06', '2022-03-20 10:08:25',\n",
              "       '2022-03-20 10:09:49', ..., '2022-08-11 01:19:05',\n",
              "       '2022-08-11 01:20:20', '2022-08-11 01:20:46'], dtype=object)"
            ]
          },
          "metadata": {},
          "execution_count": 11
        }
      ]
    },
    {
      "cell_type": "code",
      "source": [
        "unique_values['gp:college type']"
      ],
      "metadata": {
        "colab": {
          "base_uri": "https://localhost:8080/"
        },
        "id": "IL9-Hkd6pj-c",
        "outputId": "d8504857-c8d4-4e87-923a-6941d4015ba8"
      },
      "execution_count": null,
      "outputs": [
        {
          "output_type": "execute_result",
          "data": {
            "text/plain": [
              "array([nan, '[\"Pública\"]', '[\"Privada\"]'], dtype=object)"
            ]
          },
          "metadata": {},
          "execution_count": 12
        }
      ]
    },
    {
      "cell_type": "code",
      "source": [
        "unique_values['gp:school type']"
      ],
      "metadata": {
        "colab": {
          "base_uri": "https://localhost:8080/"
        },
        "id": "6CZpAl-nurpX",
        "outputId": "3cae776f-d29e-4086-d28d-b7a0a9bfd050"
      },
      "execution_count": null,
      "outputs": [
        {
          "output_type": "execute_result",
          "data": {
            "text/plain": [
              "array([nan, '[\"Escola Pública\"]', '[\"Estudo por conta própria\"]',\n",
              "       '[\"Cursinho Preparatório\"]', '[\"Escola Privada\"]',\n",
              "       '[\"Escola Privada\",\"Escola Pública\"]',\n",
              "       '[\"Estudo por conta própria\",\"Cursinho Preparatório\"]'],\n",
              "      dtype=object)"
            ]
          },
          "metadata": {},
          "execution_count": 13
        }
      ]
    },
    {
      "cell_type": "code",
      "source": [
        "unique_values['gp:degree course']"
      ],
      "metadata": {
        "colab": {
          "base_uri": "https://localhost:8080/"
        },
        "id": "E1hYWN9Bu63T",
        "outputId": "bd4c25ef-3734-42cf-d41f-e7be65a19a57"
      },
      "execution_count": null,
      "outputs": [
        {
          "output_type": "execute_result",
          "data": {
            "text/plain": [
              "array([nan, '[\"ADMINISTRACAO\"]',\n",
              "       '[\"ADMINISTRACAO\",\"ANALISE E DESENVOLVIMENTO DE SISTEMAS\"]',\n",
              "       '[\"QUIMICA\"]', '[\"JORNALISMO\"]',\n",
              "       '[\"ANALISE E DESENVOLVIMENTO DE SISTEMAS\"]',\n",
              "       '[\"CIENCIAS CONTABEIS\"]',\n",
              "       '[\"ADMINISTRACAO\",\"PEDAGOGIA\",\"LETRAS - LINGUA PORTUGUESA\"]',\n",
              "       '[\"DIREITO\"]', '[\"MEDICINA\"]',\n",
              "       '[\"ANALISE E DESENVOLVIMENTO DE SISTEMAS\",\"ADMINISTRACAO PUBLICA\"]',\n",
              "       '[\"ODONTOLOGIA\"]', '[\"GESTAO DE SEGURANCA PRIVADA\"]',\n",
              "       '[\"ENFERMAGEM\",\"MEDICINA\",\"ODONTOLOGIA\"]',\n",
              "       '[\"CIENCIAS BIOLOGICAS\"]', '[\"RELACOES INTERNACIONAIS\",\"DIREITO\"]',\n",
              "       '[\"ENFERMAGEM\"]'], dtype=object)"
            ]
          },
          "metadata": {},
          "execution_count": 14
        }
      ]
    },
    {
      "cell_type": "code",
      "source": [
        "unique_values['difficulty']"
      ],
      "metadata": {
        "colab": {
          "base_uri": "https://localhost:8080/"
        },
        "id": "V7cXRtRHvGF2",
        "outputId": "b2fb8856-daee-4abf-df9e-03cd974e9f90"
      },
      "execution_count": null,
      "outputs": [
        {
          "output_type": "execute_result",
          "data": {
            "text/plain": [
              "array([ 4.,  3.,  1.,  2.,  5., nan])"
            ]
          },
          "metadata": {},
          "execution_count": 15
        }
      ]
    },
    {
      "cell_type": "code",
      "source": [
        "unique_values['gp:previous experience']"
      ],
      "metadata": {
        "colab": {
          "base_uri": "https://localhost:8080/"
        },
        "id": "kckWCPbLvOVj",
        "outputId": "131921fd-b409-4f76-ea9c-19bb67d4c233"
      },
      "execution_count": null,
      "outputs": [
        {
          "output_type": "execute_result",
          "data": {
            "text/plain": [
              "array(['beginner', nan, 'professional', 'highly_experient', 'experient'],\n",
              "      dtype=object)"
            ]
          },
          "metadata": {},
          "execution_count": 16
        }
      ]
    },
    {
      "cell_type": "code",
      "source": [
        "unique_values['gp:carrers']"
      ],
      "metadata": {
        "colab": {
          "base_uri": "https://localhost:8080/"
        },
        "id": "GsxfCxJwvjIB",
        "outputId": "185311ee-ff4b-43fd-8070-7bece0655ec0"
      },
      "execution_count": null,
      "outputs": [
        {
          "output_type": "execute_result",
          "data": {
            "text/plain": [
              "array(['Tribunal, Administrativa', 'Tribunal',\n",
              "       'Controle e Gestão, Outras, Administrativa', ...,\n",
              "       'Fiscal, Legislativa, Administrativa, Controle e Gestão',\n",
              "       'Fiscal, Controle e Gestão, Administrativa, Outras, Legislativa',\n",
              "       'Administrativa, Legislativa, Tribunal, Fiscal, Bancária, Policial, Outras'],\n",
              "      dtype=object)"
            ]
          },
          "metadata": {},
          "execution_count": 17
        }
      ]
    },
    {
      "cell_type": "code",
      "source": [
        "unique_values['gp:segment']"
      ],
      "metadata": {
        "colab": {
          "base_uri": "https://localhost:8080/"
        },
        "id": "D0MuCaBfyKvh",
        "outputId": "f454e5a5-43f2-4fc9-8e98-9067bb5efa56"
      },
      "execution_count": null,
      "outputs": [
        {
          "output_type": "execute_result",
          "data": {
            "text/plain": [
              "array(['Concurso Público', nan, 'Concurso Militar', 'OAB', 'Enem'],\n",
              "      dtype=object)"
            ]
          },
          "metadata": {},
          "execution_count": 18
        }
      ]
    },
    {
      "cell_type": "markdown",
      "source": [
        "##2-Cleanning The Data\n",
        "Removing unnecessary columns and filling Nan Values with 0"
      ],
      "metadata": {
        "id": "WKhQk9Xp1z34"
      }
    },
    {
      "cell_type": "code",
      "source": [
        "for col in df_model:\n",
        "  df_model[col] = df_model[col].fillna(0)"
      ],
      "metadata": {
        "id": "6nwxpmNj2CMw"
      },
      "execution_count": null,
      "outputs": []
    },
    {
      "cell_type": "code",
      "source": [
        "df_model.drop(df_model[df_model['nullified'] == 1.0].index, inplace=True)"
      ],
      "metadata": {
        "id": "J08DQ8K_6Hci",
        "colab": {
          "base_uri": "https://localhost:8080/",
          "height": 524
        },
        "outputId": "343ab2ce-e443-4df2-ae0c-4ae59aa35e7f"
      },
      "execution_count": null,
      "outputs": [
        {
          "output_type": "error",
          "ename": "KeyError",
          "evalue": "ignored",
          "traceback": [
            "\u001b[0;31m---------------------------------------------------------------------------\u001b[0m",
            "\u001b[0;31mKeyError\u001b[0m                                  Traceback (most recent call last)",
            "\u001b[0;32m/usr/local/lib/python3.7/dist-packages/pandas/core/indexes/base.py\u001b[0m in \u001b[0;36mget_loc\u001b[0;34m(self, key, method, tolerance)\u001b[0m\n\u001b[1;32m   3360\u001b[0m             \u001b[0;32mtry\u001b[0m\u001b[0;34m:\u001b[0m\u001b[0;34m\u001b[0m\u001b[0;34m\u001b[0m\u001b[0m\n\u001b[0;32m-> 3361\u001b[0;31m                 \u001b[0;32mreturn\u001b[0m \u001b[0mself\u001b[0m\u001b[0;34m.\u001b[0m\u001b[0m_engine\u001b[0m\u001b[0;34m.\u001b[0m\u001b[0mget_loc\u001b[0m\u001b[0;34m(\u001b[0m\u001b[0mcasted_key\u001b[0m\u001b[0;34m)\u001b[0m\u001b[0;34m\u001b[0m\u001b[0;34m\u001b[0m\u001b[0m\n\u001b[0m\u001b[1;32m   3362\u001b[0m             \u001b[0;32mexcept\u001b[0m \u001b[0mKeyError\u001b[0m \u001b[0;32mas\u001b[0m \u001b[0merr\u001b[0m\u001b[0;34m:\u001b[0m\u001b[0;34m\u001b[0m\u001b[0;34m\u001b[0m\u001b[0m\n",
            "\u001b[0;32m/usr/local/lib/python3.7/dist-packages/pandas/_libs/index.pyx\u001b[0m in \u001b[0;36mpandas._libs.index.IndexEngine.get_loc\u001b[0;34m()\u001b[0m\n",
            "\u001b[0;32m/usr/local/lib/python3.7/dist-packages/pandas/_libs/index.pyx\u001b[0m in \u001b[0;36mpandas._libs.index.IndexEngine.get_loc\u001b[0;34m()\u001b[0m\n",
            "\u001b[0;32mpandas/_libs/hashtable_class_helper.pxi\u001b[0m in \u001b[0;36mpandas._libs.hashtable.PyObjectHashTable.get_item\u001b[0;34m()\u001b[0m\n",
            "\u001b[0;32mpandas/_libs/hashtable_class_helper.pxi\u001b[0m in \u001b[0;36mpandas._libs.hashtable.PyObjectHashTable.get_item\u001b[0;34m()\u001b[0m\n",
            "\u001b[0;31mKeyError\u001b[0m: 'nullified'",
            "\nThe above exception was the direct cause of the following exception:\n",
            "\u001b[0;31mKeyError\u001b[0m                                  Traceback (most recent call last)",
            "\u001b[0;32m<ipython-input-40-faba9f21fbfb>\u001b[0m in \u001b[0;36m<module>\u001b[0;34m\u001b[0m\n\u001b[0;32m----> 1\u001b[0;31m \u001b[0mdf_model\u001b[0m\u001b[0;34m.\u001b[0m\u001b[0mdrop\u001b[0m\u001b[0;34m(\u001b[0m\u001b[0mdf_model\u001b[0m\u001b[0;34m[\u001b[0m\u001b[0mdf_model\u001b[0m\u001b[0;34m[\u001b[0m\u001b[0;34m'nullified'\u001b[0m\u001b[0;34m]\u001b[0m \u001b[0;34m==\u001b[0m \u001b[0;36m1.0\u001b[0m\u001b[0;34m]\u001b[0m\u001b[0;34m.\u001b[0m\u001b[0mindex\u001b[0m\u001b[0;34m,\u001b[0m \u001b[0minplace\u001b[0m\u001b[0;34m=\u001b[0m\u001b[0;32mTrue\u001b[0m\u001b[0;34m)\u001b[0m\u001b[0;34m\u001b[0m\u001b[0;34m\u001b[0m\u001b[0m\n\u001b[0m",
            "\u001b[0;32m/usr/local/lib/python3.7/dist-packages/pandas/core/frame.py\u001b[0m in \u001b[0;36m__getitem__\u001b[0;34m(self, key)\u001b[0m\n\u001b[1;32m   3456\u001b[0m             \u001b[0;32mif\u001b[0m \u001b[0mself\u001b[0m\u001b[0;34m.\u001b[0m\u001b[0mcolumns\u001b[0m\u001b[0;34m.\u001b[0m\u001b[0mnlevels\u001b[0m \u001b[0;34m>\u001b[0m \u001b[0;36m1\u001b[0m\u001b[0;34m:\u001b[0m\u001b[0;34m\u001b[0m\u001b[0;34m\u001b[0m\u001b[0m\n\u001b[1;32m   3457\u001b[0m                 \u001b[0;32mreturn\u001b[0m \u001b[0mself\u001b[0m\u001b[0;34m.\u001b[0m\u001b[0m_getitem_multilevel\u001b[0m\u001b[0;34m(\u001b[0m\u001b[0mkey\u001b[0m\u001b[0;34m)\u001b[0m\u001b[0;34m\u001b[0m\u001b[0;34m\u001b[0m\u001b[0m\n\u001b[0;32m-> 3458\u001b[0;31m             \u001b[0mindexer\u001b[0m \u001b[0;34m=\u001b[0m \u001b[0mself\u001b[0m\u001b[0;34m.\u001b[0m\u001b[0mcolumns\u001b[0m\u001b[0;34m.\u001b[0m\u001b[0mget_loc\u001b[0m\u001b[0;34m(\u001b[0m\u001b[0mkey\u001b[0m\u001b[0;34m)\u001b[0m\u001b[0;34m\u001b[0m\u001b[0;34m\u001b[0m\u001b[0m\n\u001b[0m\u001b[1;32m   3459\u001b[0m             \u001b[0;32mif\u001b[0m \u001b[0mis_integer\u001b[0m\u001b[0;34m(\u001b[0m\u001b[0mindexer\u001b[0m\u001b[0;34m)\u001b[0m\u001b[0;34m:\u001b[0m\u001b[0;34m\u001b[0m\u001b[0;34m\u001b[0m\u001b[0m\n\u001b[1;32m   3460\u001b[0m                 \u001b[0mindexer\u001b[0m \u001b[0;34m=\u001b[0m \u001b[0;34m[\u001b[0m\u001b[0mindexer\u001b[0m\u001b[0;34m]\u001b[0m\u001b[0;34m\u001b[0m\u001b[0;34m\u001b[0m\u001b[0m\n",
            "\u001b[0;32m/usr/local/lib/python3.7/dist-packages/pandas/core/indexes/base.py\u001b[0m in \u001b[0;36mget_loc\u001b[0;34m(self, key, method, tolerance)\u001b[0m\n\u001b[1;32m   3361\u001b[0m                 \u001b[0;32mreturn\u001b[0m \u001b[0mself\u001b[0m\u001b[0;34m.\u001b[0m\u001b[0m_engine\u001b[0m\u001b[0;34m.\u001b[0m\u001b[0mget_loc\u001b[0m\u001b[0;34m(\u001b[0m\u001b[0mcasted_key\u001b[0m\u001b[0;34m)\u001b[0m\u001b[0;34m\u001b[0m\u001b[0;34m\u001b[0m\u001b[0m\n\u001b[1;32m   3362\u001b[0m             \u001b[0;32mexcept\u001b[0m \u001b[0mKeyError\u001b[0m \u001b[0;32mas\u001b[0m \u001b[0merr\u001b[0m\u001b[0;34m:\u001b[0m\u001b[0;34m\u001b[0m\u001b[0;34m\u001b[0m\u001b[0m\n\u001b[0;32m-> 3363\u001b[0;31m                 \u001b[0;32mraise\u001b[0m \u001b[0mKeyError\u001b[0m\u001b[0;34m(\u001b[0m\u001b[0mkey\u001b[0m\u001b[0;34m)\u001b[0m \u001b[0;32mfrom\u001b[0m \u001b[0merr\u001b[0m\u001b[0;34m\u001b[0m\u001b[0;34m\u001b[0m\u001b[0m\n\u001b[0m\u001b[1;32m   3364\u001b[0m \u001b[0;34m\u001b[0m\u001b[0m\n\u001b[1;32m   3365\u001b[0m         \u001b[0;32mif\u001b[0m \u001b[0mis_scalar\u001b[0m\u001b[0;34m(\u001b[0m\u001b[0mkey\u001b[0m\u001b[0;34m)\u001b[0m \u001b[0;32mand\u001b[0m \u001b[0misna\u001b[0m\u001b[0;34m(\u001b[0m\u001b[0mkey\u001b[0m\u001b[0;34m)\u001b[0m \u001b[0;32mand\u001b[0m \u001b[0;32mnot\u001b[0m \u001b[0mself\u001b[0m\u001b[0;34m.\u001b[0m\u001b[0mhasnans\u001b[0m\u001b[0;34m:\u001b[0m\u001b[0;34m\u001b[0m\u001b[0;34m\u001b[0m\u001b[0m\n",
            "\u001b[0;31mKeyError\u001b[0m: 'nullified'"
          ]
        }
      ]
    },
    {
      "cell_type": "code",
      "source": [
        "df_model = df_model.drop('novo_user_id', axis=1)\n",
        "df_model = df_model.drop('city', axis=1)\n",
        "df_model = df_model.drop('country', axis=1)\n",
        "df_model = df_model.drop('device', axis=1)\n",
        "df_model = df_model.drop('gp:carrers', axis=1)\n",
        "df_model = df_model.drop('device_type', axis=1)\n",
        "df_model = df_model.drop('os', axis=1)\n",
        "df_model = df_model.drop('gp:source_project', axis=1)"
      ],
      "metadata": {
        "id": "a5Kwe47Gz0eM"
      },
      "execution_count": null,
      "outputs": []
    },
    {
      "cell_type": "code",
      "source": [
        "df_model = df_model.drop('created_at', axis=1)\n",
        "df_model = df_model.drop('outdated', axis=1)\n",
        "df_model = df_model.drop('nullified', axis=1)\n",
        "df_model = df_model.drop('product_id', axis=1)\n",
        "df_model = df_model.drop('publication_year', axis=1)\n",
        "df_model = df_model.drop('row', axis=1)\n",
        "df_model = df_model.drop('examining_board_id', axis=1)\n",
        "df_model = df_model.drop('right_answer', axis=1)\n"
      ],
      "metadata": {
        "id": "YWgt7a8y94et"
      },
      "execution_count": null,
      "outputs": []
    },
    {
      "cell_type": "markdown",
      "source": [
        "##3- Normalizing the data\n",
        "Labeling string values"
      ],
      "metadata": {
        "id": "Y81od6UT2m2w"
      }
    },
    {
      "cell_type": "code",
      "source": [
        "df_resposta=df_model['acertou']\n",
        "df_model = df_model.drop('acertou', axis=1)"
      ],
      "metadata": {
        "id": "93JBb0az5aEh"
      },
      "execution_count": null,
      "outputs": []
    },
    {
      "cell_type": "code",
      "source": [
        "df_model"
      ],
      "metadata": {
        "colab": {
          "base_uri": "https://localhost:8080/",
          "height": 678
        },
        "id": "xjuHJcLu8I8k",
        "outputId": "50ca6421-1bf8-46ae-83e0-172b74261bfc"
      },
      "execution_count": null,
      "outputs": [
        {
          "output_type": "execute_result",
          "data": {
            "text/plain": [
              "        platform          region gp:college type gp:degree course  \\\n",
              "0            iOS  Rio de Janeiro               0                0   \n",
              "1            iOS  Rio de Janeiro               0                0   \n",
              "2            iOS  Rio de Janeiro               0                0   \n",
              "3            iOS  Rio de Janeiro               0                0   \n",
              "4            iOS  Rio de Janeiro               0                0   \n",
              "...          ...             ...             ...              ...   \n",
              "1999995      iOS       Sao Paulo               0                0   \n",
              "1999996      iOS       Sao Paulo               0                0   \n",
              "1999997      iOS       Sao Paulo               0                0   \n",
              "1999998      iOS       Sao Paulo               0                0   \n",
              "1999999      iOS       Sao Paulo               0                0   \n",
              "\n",
              "        gp:previous experience gp:school type        gp:segment  \\\n",
              "0                     beginner              0  Concurso Público   \n",
              "1                     beginner              0  Concurso Público   \n",
              "2                     beginner              0  Concurso Público   \n",
              "3                     beginner              0  Concurso Público   \n",
              "4                     beginner              0  Concurso Público   \n",
              "...                        ...            ...               ...   \n",
              "1999995               beginner              0  Concurso Público   \n",
              "1999996               beginner              0  Concurso Público   \n",
              "1999997               beginner              0  Concurso Público   \n",
              "1999998               beginner              0  Concurso Público   \n",
              "1999999               beginner              0  Concurso Público   \n",
              "\n",
              "         commented_by_professor  difficulty  discipline_id  institute_id  \\\n",
              "0                           0.0         4.0          238.0        4126.0   \n",
              "1                           0.0         4.0          238.0        4126.0   \n",
              "2                           0.0         3.0          238.0        4126.0   \n",
              "3                           0.0         4.0          238.0        4126.0   \n",
              "4                           0.0         3.0          238.0        4126.0   \n",
              "...                         ...         ...            ...           ...   \n",
              "1999995                     0.0         2.0          185.0        6901.0   \n",
              "1999996                     0.0         1.0          185.0        6901.0   \n",
              "1999997                     0.0         2.0          185.0        6901.0   \n",
              "1999998                     0.0         3.0          185.0        3270.0   \n",
              "1999999                     0.0         3.0          185.0        4659.0   \n",
              "\n",
              "         knowledge_area_id  modality_id  scholarity_id  novo_question_id  \n",
              "0                     13.0          1.0            2.0            489400  \n",
              "1                     13.0          1.0            2.0            489399  \n",
              "2                     13.0          1.0            2.0            489398  \n",
              "3                     13.0          1.0            2.0            489397  \n",
              "4                     13.0          1.0            2.0            489396  \n",
              "...                    ...          ...            ...               ...  \n",
              "1999995               27.0          1.0            3.0            433505  \n",
              "1999996               27.0          1.0            3.0            432606  \n",
              "1999997               27.0          1.0            3.0            432605  \n",
              "1999998               27.0          1.0            3.0            430934  \n",
              "1999999               27.0          1.0            3.0            428960  \n",
              "\n",
              "[1994846 rows x 15 columns]"
            ],
            "text/html": [
              "\n",
              "  <div id=\"df-63a60b4d-4fac-4f7e-a77c-186ac3cf499a\">\n",
              "    <div class=\"colab-df-container\">\n",
              "      <div>\n",
              "<style scoped>\n",
              "    .dataframe tbody tr th:only-of-type {\n",
              "        vertical-align: middle;\n",
              "    }\n",
              "\n",
              "    .dataframe tbody tr th {\n",
              "        vertical-align: top;\n",
              "    }\n",
              "\n",
              "    .dataframe thead th {\n",
              "        text-align: right;\n",
              "    }\n",
              "</style>\n",
              "<table border=\"1\" class=\"dataframe\">\n",
              "  <thead>\n",
              "    <tr style=\"text-align: right;\">\n",
              "      <th></th>\n",
              "      <th>platform</th>\n",
              "      <th>region</th>\n",
              "      <th>gp:college type</th>\n",
              "      <th>gp:degree course</th>\n",
              "      <th>gp:previous experience</th>\n",
              "      <th>gp:school type</th>\n",
              "      <th>gp:segment</th>\n",
              "      <th>commented_by_professor</th>\n",
              "      <th>difficulty</th>\n",
              "      <th>discipline_id</th>\n",
              "      <th>institute_id</th>\n",
              "      <th>knowledge_area_id</th>\n",
              "      <th>modality_id</th>\n",
              "      <th>scholarity_id</th>\n",
              "      <th>novo_question_id</th>\n",
              "    </tr>\n",
              "  </thead>\n",
              "  <tbody>\n",
              "    <tr>\n",
              "      <th>0</th>\n",
              "      <td>iOS</td>\n",
              "      <td>Rio de Janeiro</td>\n",
              "      <td>0</td>\n",
              "      <td>0</td>\n",
              "      <td>beginner</td>\n",
              "      <td>0</td>\n",
              "      <td>Concurso Público</td>\n",
              "      <td>0.0</td>\n",
              "      <td>4.0</td>\n",
              "      <td>238.0</td>\n",
              "      <td>4126.0</td>\n",
              "      <td>13.0</td>\n",
              "      <td>1.0</td>\n",
              "      <td>2.0</td>\n",
              "      <td>489400</td>\n",
              "    </tr>\n",
              "    <tr>\n",
              "      <th>1</th>\n",
              "      <td>iOS</td>\n",
              "      <td>Rio de Janeiro</td>\n",
              "      <td>0</td>\n",
              "      <td>0</td>\n",
              "      <td>beginner</td>\n",
              "      <td>0</td>\n",
              "      <td>Concurso Público</td>\n",
              "      <td>0.0</td>\n",
              "      <td>4.0</td>\n",
              "      <td>238.0</td>\n",
              "      <td>4126.0</td>\n",
              "      <td>13.0</td>\n",
              "      <td>1.0</td>\n",
              "      <td>2.0</td>\n",
              "      <td>489399</td>\n",
              "    </tr>\n",
              "    <tr>\n",
              "      <th>2</th>\n",
              "      <td>iOS</td>\n",
              "      <td>Rio de Janeiro</td>\n",
              "      <td>0</td>\n",
              "      <td>0</td>\n",
              "      <td>beginner</td>\n",
              "      <td>0</td>\n",
              "      <td>Concurso Público</td>\n",
              "      <td>0.0</td>\n",
              "      <td>3.0</td>\n",
              "      <td>238.0</td>\n",
              "      <td>4126.0</td>\n",
              "      <td>13.0</td>\n",
              "      <td>1.0</td>\n",
              "      <td>2.0</td>\n",
              "      <td>489398</td>\n",
              "    </tr>\n",
              "    <tr>\n",
              "      <th>3</th>\n",
              "      <td>iOS</td>\n",
              "      <td>Rio de Janeiro</td>\n",
              "      <td>0</td>\n",
              "      <td>0</td>\n",
              "      <td>beginner</td>\n",
              "      <td>0</td>\n",
              "      <td>Concurso Público</td>\n",
              "      <td>0.0</td>\n",
              "      <td>4.0</td>\n",
              "      <td>238.0</td>\n",
              "      <td>4126.0</td>\n",
              "      <td>13.0</td>\n",
              "      <td>1.0</td>\n",
              "      <td>2.0</td>\n",
              "      <td>489397</td>\n",
              "    </tr>\n",
              "    <tr>\n",
              "      <th>4</th>\n",
              "      <td>iOS</td>\n",
              "      <td>Rio de Janeiro</td>\n",
              "      <td>0</td>\n",
              "      <td>0</td>\n",
              "      <td>beginner</td>\n",
              "      <td>0</td>\n",
              "      <td>Concurso Público</td>\n",
              "      <td>0.0</td>\n",
              "      <td>3.0</td>\n",
              "      <td>238.0</td>\n",
              "      <td>4126.0</td>\n",
              "      <td>13.0</td>\n",
              "      <td>1.0</td>\n",
              "      <td>2.0</td>\n",
              "      <td>489396</td>\n",
              "    </tr>\n",
              "    <tr>\n",
              "      <th>...</th>\n",
              "      <td>...</td>\n",
              "      <td>...</td>\n",
              "      <td>...</td>\n",
              "      <td>...</td>\n",
              "      <td>...</td>\n",
              "      <td>...</td>\n",
              "      <td>...</td>\n",
              "      <td>...</td>\n",
              "      <td>...</td>\n",
              "      <td>...</td>\n",
              "      <td>...</td>\n",
              "      <td>...</td>\n",
              "      <td>...</td>\n",
              "      <td>...</td>\n",
              "      <td>...</td>\n",
              "    </tr>\n",
              "    <tr>\n",
              "      <th>1999995</th>\n",
              "      <td>iOS</td>\n",
              "      <td>Sao Paulo</td>\n",
              "      <td>0</td>\n",
              "      <td>0</td>\n",
              "      <td>beginner</td>\n",
              "      <td>0</td>\n",
              "      <td>Concurso Público</td>\n",
              "      <td>0.0</td>\n",
              "      <td>2.0</td>\n",
              "      <td>185.0</td>\n",
              "      <td>6901.0</td>\n",
              "      <td>27.0</td>\n",
              "      <td>1.0</td>\n",
              "      <td>3.0</td>\n",
              "      <td>433505</td>\n",
              "    </tr>\n",
              "    <tr>\n",
              "      <th>1999996</th>\n",
              "      <td>iOS</td>\n",
              "      <td>Sao Paulo</td>\n",
              "      <td>0</td>\n",
              "      <td>0</td>\n",
              "      <td>beginner</td>\n",
              "      <td>0</td>\n",
              "      <td>Concurso Público</td>\n",
              "      <td>0.0</td>\n",
              "      <td>1.0</td>\n",
              "      <td>185.0</td>\n",
              "      <td>6901.0</td>\n",
              "      <td>27.0</td>\n",
              "      <td>1.0</td>\n",
              "      <td>3.0</td>\n",
              "      <td>432606</td>\n",
              "    </tr>\n",
              "    <tr>\n",
              "      <th>1999997</th>\n",
              "      <td>iOS</td>\n",
              "      <td>Sao Paulo</td>\n",
              "      <td>0</td>\n",
              "      <td>0</td>\n",
              "      <td>beginner</td>\n",
              "      <td>0</td>\n",
              "      <td>Concurso Público</td>\n",
              "      <td>0.0</td>\n",
              "      <td>2.0</td>\n",
              "      <td>185.0</td>\n",
              "      <td>6901.0</td>\n",
              "      <td>27.0</td>\n",
              "      <td>1.0</td>\n",
              "      <td>3.0</td>\n",
              "      <td>432605</td>\n",
              "    </tr>\n",
              "    <tr>\n",
              "      <th>1999998</th>\n",
              "      <td>iOS</td>\n",
              "      <td>Sao Paulo</td>\n",
              "      <td>0</td>\n",
              "      <td>0</td>\n",
              "      <td>beginner</td>\n",
              "      <td>0</td>\n",
              "      <td>Concurso Público</td>\n",
              "      <td>0.0</td>\n",
              "      <td>3.0</td>\n",
              "      <td>185.0</td>\n",
              "      <td>3270.0</td>\n",
              "      <td>27.0</td>\n",
              "      <td>1.0</td>\n",
              "      <td>3.0</td>\n",
              "      <td>430934</td>\n",
              "    </tr>\n",
              "    <tr>\n",
              "      <th>1999999</th>\n",
              "      <td>iOS</td>\n",
              "      <td>Sao Paulo</td>\n",
              "      <td>0</td>\n",
              "      <td>0</td>\n",
              "      <td>beginner</td>\n",
              "      <td>0</td>\n",
              "      <td>Concurso Público</td>\n",
              "      <td>0.0</td>\n",
              "      <td>3.0</td>\n",
              "      <td>185.0</td>\n",
              "      <td>4659.0</td>\n",
              "      <td>27.0</td>\n",
              "      <td>1.0</td>\n",
              "      <td>3.0</td>\n",
              "      <td>428960</td>\n",
              "    </tr>\n",
              "  </tbody>\n",
              "</table>\n",
              "<p>1994846 rows × 15 columns</p>\n",
              "</div>\n",
              "      <button class=\"colab-df-convert\" onclick=\"convertToInteractive('df-63a60b4d-4fac-4f7e-a77c-186ac3cf499a')\"\n",
              "              title=\"Convert this dataframe to an interactive table.\"\n",
              "              style=\"display:none;\">\n",
              "        \n",
              "  <svg xmlns=\"http://www.w3.org/2000/svg\" height=\"24px\"viewBox=\"0 0 24 24\"\n",
              "       width=\"24px\">\n",
              "    <path d=\"M0 0h24v24H0V0z\" fill=\"none\"/>\n",
              "    <path d=\"M18.56 5.44l.94 2.06.94-2.06 2.06-.94-2.06-.94-.94-2.06-.94 2.06-2.06.94zm-11 1L8.5 8.5l.94-2.06 2.06-.94-2.06-.94L8.5 2.5l-.94 2.06-2.06.94zm10 10l.94 2.06.94-2.06 2.06-.94-2.06-.94-.94-2.06-.94 2.06-2.06.94z\"/><path d=\"M17.41 7.96l-1.37-1.37c-.4-.4-.92-.59-1.43-.59-.52 0-1.04.2-1.43.59L10.3 9.45l-7.72 7.72c-.78.78-.78 2.05 0 2.83L4 21.41c.39.39.9.59 1.41.59.51 0 1.02-.2 1.41-.59l7.78-7.78 2.81-2.81c.8-.78.8-2.07 0-2.86zM5.41 20L4 18.59l7.72-7.72 1.47 1.35L5.41 20z\"/>\n",
              "  </svg>\n",
              "      </button>\n",
              "      \n",
              "  <style>\n",
              "    .colab-df-container {\n",
              "      display:flex;\n",
              "      flex-wrap:wrap;\n",
              "      gap: 12px;\n",
              "    }\n",
              "\n",
              "    .colab-df-convert {\n",
              "      background-color: #E8F0FE;\n",
              "      border: none;\n",
              "      border-radius: 50%;\n",
              "      cursor: pointer;\n",
              "      display: none;\n",
              "      fill: #1967D2;\n",
              "      height: 32px;\n",
              "      padding: 0 0 0 0;\n",
              "      width: 32px;\n",
              "    }\n",
              "\n",
              "    .colab-df-convert:hover {\n",
              "      background-color: #E2EBFA;\n",
              "      box-shadow: 0px 1px 2px rgba(60, 64, 67, 0.3), 0px 1px 3px 1px rgba(60, 64, 67, 0.15);\n",
              "      fill: #174EA6;\n",
              "    }\n",
              "\n",
              "    [theme=dark] .colab-df-convert {\n",
              "      background-color: #3B4455;\n",
              "      fill: #D2E3FC;\n",
              "    }\n",
              "\n",
              "    [theme=dark] .colab-df-convert:hover {\n",
              "      background-color: #434B5C;\n",
              "      box-shadow: 0px 1px 3px 1px rgba(0, 0, 0, 0.15);\n",
              "      filter: drop-shadow(0px 1px 2px rgba(0, 0, 0, 0.3));\n",
              "      fill: #FFFFFF;\n",
              "    }\n",
              "  </style>\n",
              "\n",
              "      <script>\n",
              "        const buttonEl =\n",
              "          document.querySelector('#df-63a60b4d-4fac-4f7e-a77c-186ac3cf499a button.colab-df-convert');\n",
              "        buttonEl.style.display =\n",
              "          google.colab.kernel.accessAllowed ? 'block' : 'none';\n",
              "\n",
              "        async function convertToInteractive(key) {\n",
              "          const element = document.querySelector('#df-63a60b4d-4fac-4f7e-a77c-186ac3cf499a');\n",
              "          const dataTable =\n",
              "            await google.colab.kernel.invokeFunction('convertToInteractive',\n",
              "                                                     [key], {});\n",
              "          if (!dataTable) return;\n",
              "\n",
              "          const docLinkHtml = 'Like what you see? Visit the ' +\n",
              "            '<a target=\"_blank\" href=https://colab.research.google.com/notebooks/data_table.ipynb>data table notebook</a>'\n",
              "            + ' to learn more about interactive tables.';\n",
              "          element.innerHTML = '';\n",
              "          dataTable['output_type'] = 'display_data';\n",
              "          await google.colab.output.renderOutput(dataTable, element);\n",
              "          const docLink = document.createElement('div');\n",
              "          docLink.innerHTML = docLinkHtml;\n",
              "          element.appendChild(docLink);\n",
              "        }\n",
              "      </script>\n",
              "    </div>\n",
              "  </div>\n",
              "  "
            ]
          },
          "metadata": {},
          "execution_count": 24
        }
      ]
    },
    {
      "cell_type": "code",
      "source": [
        "df_model.columns"
      ],
      "metadata": {
        "colab": {
          "base_uri": "https://localhost:8080/"
        },
        "id": "lM6rcdt48n2c",
        "outputId": "e2c4a1ca-9f61-4baa-efd2-ce27215f23aa"
      },
      "execution_count": null,
      "outputs": [
        {
          "output_type": "execute_result",
          "data": {
            "text/plain": [
              "Index(['platform', 'region', 'gp:college type', 'gp:degree course',\n",
              "       'gp:previous experience', 'gp:school type', 'gp:segment',\n",
              "       'commented_by_professor', 'difficulty', 'discipline_id', 'institute_id',\n",
              "       'knowledge_area_id', 'modality_id', 'scholarity_id',\n",
              "       'novo_question_id'],\n",
              "      dtype='object')"
            ]
          },
          "metadata": {},
          "execution_count": 25
        }
      ]
    },
    {
      "cell_type": "code",
      "source": [
        "le = LabelEncoder()\n",
        "columns_to_encode =list(df_model.select_dtypes(include=['category','object']))\n",
        "for feature in columns_to_encode:\n",
        "  df_model[feature] = le.fit_transform(df_model[feature].astype(str))\n"
      ],
      "metadata": {
        "id": "FhiuX_0e2_tA"
      },
      "execution_count": null,
      "outputs": []
    },
    {
      "cell_type": "code",
      "source": [
        "df_model"
      ],
      "metadata": {
        "colab": {
          "base_uri": "https://localhost:8080/",
          "height": 505
        },
        "id": "7tuR2LL6ADB7",
        "outputId": "dfde9c04-ec67-44c8-b30f-732cf5e130ea"
      },
      "execution_count": null,
      "outputs": [
        {
          "output_type": "execute_result",
          "data": {
            "text/plain": [
              "         platform  region  gp:college type  gp:degree course  \\\n",
              "0               3      40                0                 0   \n",
              "1               3      40                0                 0   \n",
              "2               3      40                0                 0   \n",
              "3               3      40                0                 0   \n",
              "4               3      40                0                 0   \n",
              "...           ...     ...              ...               ...   \n",
              "1999995         3      44                0                 0   \n",
              "1999996         3      44                0                 0   \n",
              "1999997         3      44                0                 0   \n",
              "1999998         3      44                0                 0   \n",
              "1999999         3      44                0                 0   \n",
              "\n",
              "         gp:previous experience  gp:school type  gp:segment  \\\n",
              "0                             1               0           2   \n",
              "1                             1               0           2   \n",
              "2                             1               0           2   \n",
              "3                             1               0           2   \n",
              "4                             1               0           2   \n",
              "...                         ...             ...         ...   \n",
              "1999995                       1               0           2   \n",
              "1999996                       1               0           2   \n",
              "1999997                       1               0           2   \n",
              "1999998                       1               0           2   \n",
              "1999999                       1               0           2   \n",
              "\n",
              "         commented_by_professor  difficulty  discipline_id  institute_id  \\\n",
              "0                           0.0         4.0          238.0        4126.0   \n",
              "1                           0.0         4.0          238.0        4126.0   \n",
              "2                           0.0         3.0          238.0        4126.0   \n",
              "3                           0.0         4.0          238.0        4126.0   \n",
              "4                           0.0         3.0          238.0        4126.0   \n",
              "...                         ...         ...            ...           ...   \n",
              "1999995                     0.0         2.0          185.0        6901.0   \n",
              "1999996                     0.0         1.0          185.0        6901.0   \n",
              "1999997                     0.0         2.0          185.0        6901.0   \n",
              "1999998                     0.0         3.0          185.0        3270.0   \n",
              "1999999                     0.0         3.0          185.0        4659.0   \n",
              "\n",
              "         knowledge_area_id  modality_id  scholarity_id  novo_question_id  \n",
              "0                     13.0          1.0            2.0            489400  \n",
              "1                     13.0          1.0            2.0            489399  \n",
              "2                     13.0          1.0            2.0            489398  \n",
              "3                     13.0          1.0            2.0            489397  \n",
              "4                     13.0          1.0            2.0            489396  \n",
              "...                    ...          ...            ...               ...  \n",
              "1999995               27.0          1.0            3.0            433505  \n",
              "1999996               27.0          1.0            3.0            432606  \n",
              "1999997               27.0          1.0            3.0            432605  \n",
              "1999998               27.0          1.0            3.0            430934  \n",
              "1999999               27.0          1.0            3.0            428960  \n",
              "\n",
              "[1994846 rows x 15 columns]"
            ],
            "text/html": [
              "\n",
              "  <div id=\"df-0339fcbb-15f4-45bf-b3f8-1830a32fbcb1\">\n",
              "    <div class=\"colab-df-container\">\n",
              "      <div>\n",
              "<style scoped>\n",
              "    .dataframe tbody tr th:only-of-type {\n",
              "        vertical-align: middle;\n",
              "    }\n",
              "\n",
              "    .dataframe tbody tr th {\n",
              "        vertical-align: top;\n",
              "    }\n",
              "\n",
              "    .dataframe thead th {\n",
              "        text-align: right;\n",
              "    }\n",
              "</style>\n",
              "<table border=\"1\" class=\"dataframe\">\n",
              "  <thead>\n",
              "    <tr style=\"text-align: right;\">\n",
              "      <th></th>\n",
              "      <th>platform</th>\n",
              "      <th>region</th>\n",
              "      <th>gp:college type</th>\n",
              "      <th>gp:degree course</th>\n",
              "      <th>gp:previous experience</th>\n",
              "      <th>gp:school type</th>\n",
              "      <th>gp:segment</th>\n",
              "      <th>commented_by_professor</th>\n",
              "      <th>difficulty</th>\n",
              "      <th>discipline_id</th>\n",
              "      <th>institute_id</th>\n",
              "      <th>knowledge_area_id</th>\n",
              "      <th>modality_id</th>\n",
              "      <th>scholarity_id</th>\n",
              "      <th>novo_question_id</th>\n",
              "    </tr>\n",
              "  </thead>\n",
              "  <tbody>\n",
              "    <tr>\n",
              "      <th>0</th>\n",
              "      <td>3</td>\n",
              "      <td>40</td>\n",
              "      <td>0</td>\n",
              "      <td>0</td>\n",
              "      <td>1</td>\n",
              "      <td>0</td>\n",
              "      <td>2</td>\n",
              "      <td>0.0</td>\n",
              "      <td>4.0</td>\n",
              "      <td>238.0</td>\n",
              "      <td>4126.0</td>\n",
              "      <td>13.0</td>\n",
              "      <td>1.0</td>\n",
              "      <td>2.0</td>\n",
              "      <td>489400</td>\n",
              "    </tr>\n",
              "    <tr>\n",
              "      <th>1</th>\n",
              "      <td>3</td>\n",
              "      <td>40</td>\n",
              "      <td>0</td>\n",
              "      <td>0</td>\n",
              "      <td>1</td>\n",
              "      <td>0</td>\n",
              "      <td>2</td>\n",
              "      <td>0.0</td>\n",
              "      <td>4.0</td>\n",
              "      <td>238.0</td>\n",
              "      <td>4126.0</td>\n",
              "      <td>13.0</td>\n",
              "      <td>1.0</td>\n",
              "      <td>2.0</td>\n",
              "      <td>489399</td>\n",
              "    </tr>\n",
              "    <tr>\n",
              "      <th>2</th>\n",
              "      <td>3</td>\n",
              "      <td>40</td>\n",
              "      <td>0</td>\n",
              "      <td>0</td>\n",
              "      <td>1</td>\n",
              "      <td>0</td>\n",
              "      <td>2</td>\n",
              "      <td>0.0</td>\n",
              "      <td>3.0</td>\n",
              "      <td>238.0</td>\n",
              "      <td>4126.0</td>\n",
              "      <td>13.0</td>\n",
              "      <td>1.0</td>\n",
              "      <td>2.0</td>\n",
              "      <td>489398</td>\n",
              "    </tr>\n",
              "    <tr>\n",
              "      <th>3</th>\n",
              "      <td>3</td>\n",
              "      <td>40</td>\n",
              "      <td>0</td>\n",
              "      <td>0</td>\n",
              "      <td>1</td>\n",
              "      <td>0</td>\n",
              "      <td>2</td>\n",
              "      <td>0.0</td>\n",
              "      <td>4.0</td>\n",
              "      <td>238.0</td>\n",
              "      <td>4126.0</td>\n",
              "      <td>13.0</td>\n",
              "      <td>1.0</td>\n",
              "      <td>2.0</td>\n",
              "      <td>489397</td>\n",
              "    </tr>\n",
              "    <tr>\n",
              "      <th>4</th>\n",
              "      <td>3</td>\n",
              "      <td>40</td>\n",
              "      <td>0</td>\n",
              "      <td>0</td>\n",
              "      <td>1</td>\n",
              "      <td>0</td>\n",
              "      <td>2</td>\n",
              "      <td>0.0</td>\n",
              "      <td>3.0</td>\n",
              "      <td>238.0</td>\n",
              "      <td>4126.0</td>\n",
              "      <td>13.0</td>\n",
              "      <td>1.0</td>\n",
              "      <td>2.0</td>\n",
              "      <td>489396</td>\n",
              "    </tr>\n",
              "    <tr>\n",
              "      <th>...</th>\n",
              "      <td>...</td>\n",
              "      <td>...</td>\n",
              "      <td>...</td>\n",
              "      <td>...</td>\n",
              "      <td>...</td>\n",
              "      <td>...</td>\n",
              "      <td>...</td>\n",
              "      <td>...</td>\n",
              "      <td>...</td>\n",
              "      <td>...</td>\n",
              "      <td>...</td>\n",
              "      <td>...</td>\n",
              "      <td>...</td>\n",
              "      <td>...</td>\n",
              "      <td>...</td>\n",
              "    </tr>\n",
              "    <tr>\n",
              "      <th>1999995</th>\n",
              "      <td>3</td>\n",
              "      <td>44</td>\n",
              "      <td>0</td>\n",
              "      <td>0</td>\n",
              "      <td>1</td>\n",
              "      <td>0</td>\n",
              "      <td>2</td>\n",
              "      <td>0.0</td>\n",
              "      <td>2.0</td>\n",
              "      <td>185.0</td>\n",
              "      <td>6901.0</td>\n",
              "      <td>27.0</td>\n",
              "      <td>1.0</td>\n",
              "      <td>3.0</td>\n",
              "      <td>433505</td>\n",
              "    </tr>\n",
              "    <tr>\n",
              "      <th>1999996</th>\n",
              "      <td>3</td>\n",
              "      <td>44</td>\n",
              "      <td>0</td>\n",
              "      <td>0</td>\n",
              "      <td>1</td>\n",
              "      <td>0</td>\n",
              "      <td>2</td>\n",
              "      <td>0.0</td>\n",
              "      <td>1.0</td>\n",
              "      <td>185.0</td>\n",
              "      <td>6901.0</td>\n",
              "      <td>27.0</td>\n",
              "      <td>1.0</td>\n",
              "      <td>3.0</td>\n",
              "      <td>432606</td>\n",
              "    </tr>\n",
              "    <tr>\n",
              "      <th>1999997</th>\n",
              "      <td>3</td>\n",
              "      <td>44</td>\n",
              "      <td>0</td>\n",
              "      <td>0</td>\n",
              "      <td>1</td>\n",
              "      <td>0</td>\n",
              "      <td>2</td>\n",
              "      <td>0.0</td>\n",
              "      <td>2.0</td>\n",
              "      <td>185.0</td>\n",
              "      <td>6901.0</td>\n",
              "      <td>27.0</td>\n",
              "      <td>1.0</td>\n",
              "      <td>3.0</td>\n",
              "      <td>432605</td>\n",
              "    </tr>\n",
              "    <tr>\n",
              "      <th>1999998</th>\n",
              "      <td>3</td>\n",
              "      <td>44</td>\n",
              "      <td>0</td>\n",
              "      <td>0</td>\n",
              "      <td>1</td>\n",
              "      <td>0</td>\n",
              "      <td>2</td>\n",
              "      <td>0.0</td>\n",
              "      <td>3.0</td>\n",
              "      <td>185.0</td>\n",
              "      <td>3270.0</td>\n",
              "      <td>27.0</td>\n",
              "      <td>1.0</td>\n",
              "      <td>3.0</td>\n",
              "      <td>430934</td>\n",
              "    </tr>\n",
              "    <tr>\n",
              "      <th>1999999</th>\n",
              "      <td>3</td>\n",
              "      <td>44</td>\n",
              "      <td>0</td>\n",
              "      <td>0</td>\n",
              "      <td>1</td>\n",
              "      <td>0</td>\n",
              "      <td>2</td>\n",
              "      <td>0.0</td>\n",
              "      <td>3.0</td>\n",
              "      <td>185.0</td>\n",
              "      <td>4659.0</td>\n",
              "      <td>27.0</td>\n",
              "      <td>1.0</td>\n",
              "      <td>3.0</td>\n",
              "      <td>428960</td>\n",
              "    </tr>\n",
              "  </tbody>\n",
              "</table>\n",
              "<p>1994846 rows × 15 columns</p>\n",
              "</div>\n",
              "      <button class=\"colab-df-convert\" onclick=\"convertToInteractive('df-0339fcbb-15f4-45bf-b3f8-1830a32fbcb1')\"\n",
              "              title=\"Convert this dataframe to an interactive table.\"\n",
              "              style=\"display:none;\">\n",
              "        \n",
              "  <svg xmlns=\"http://www.w3.org/2000/svg\" height=\"24px\"viewBox=\"0 0 24 24\"\n",
              "       width=\"24px\">\n",
              "    <path d=\"M0 0h24v24H0V0z\" fill=\"none\"/>\n",
              "    <path d=\"M18.56 5.44l.94 2.06.94-2.06 2.06-.94-2.06-.94-.94-2.06-.94 2.06-2.06.94zm-11 1L8.5 8.5l.94-2.06 2.06-.94-2.06-.94L8.5 2.5l-.94 2.06-2.06.94zm10 10l.94 2.06.94-2.06 2.06-.94-2.06-.94-.94-2.06-.94 2.06-2.06.94z\"/><path d=\"M17.41 7.96l-1.37-1.37c-.4-.4-.92-.59-1.43-.59-.52 0-1.04.2-1.43.59L10.3 9.45l-7.72 7.72c-.78.78-.78 2.05 0 2.83L4 21.41c.39.39.9.59 1.41.59.51 0 1.02-.2 1.41-.59l7.78-7.78 2.81-2.81c.8-.78.8-2.07 0-2.86zM5.41 20L4 18.59l7.72-7.72 1.47 1.35L5.41 20z\"/>\n",
              "  </svg>\n",
              "      </button>\n",
              "      \n",
              "  <style>\n",
              "    .colab-df-container {\n",
              "      display:flex;\n",
              "      flex-wrap:wrap;\n",
              "      gap: 12px;\n",
              "    }\n",
              "\n",
              "    .colab-df-convert {\n",
              "      background-color: #E8F0FE;\n",
              "      border: none;\n",
              "      border-radius: 50%;\n",
              "      cursor: pointer;\n",
              "      display: none;\n",
              "      fill: #1967D2;\n",
              "      height: 32px;\n",
              "      padding: 0 0 0 0;\n",
              "      width: 32px;\n",
              "    }\n",
              "\n",
              "    .colab-df-convert:hover {\n",
              "      background-color: #E2EBFA;\n",
              "      box-shadow: 0px 1px 2px rgba(60, 64, 67, 0.3), 0px 1px 3px 1px rgba(60, 64, 67, 0.15);\n",
              "      fill: #174EA6;\n",
              "    }\n",
              "\n",
              "    [theme=dark] .colab-df-convert {\n",
              "      background-color: #3B4455;\n",
              "      fill: #D2E3FC;\n",
              "    }\n",
              "\n",
              "    [theme=dark] .colab-df-convert:hover {\n",
              "      background-color: #434B5C;\n",
              "      box-shadow: 0px 1px 3px 1px rgba(0, 0, 0, 0.15);\n",
              "      filter: drop-shadow(0px 1px 2px rgba(0, 0, 0, 0.3));\n",
              "      fill: #FFFFFF;\n",
              "    }\n",
              "  </style>\n",
              "\n",
              "      <script>\n",
              "        const buttonEl =\n",
              "          document.querySelector('#df-0339fcbb-15f4-45bf-b3f8-1830a32fbcb1 button.colab-df-convert');\n",
              "        buttonEl.style.display =\n",
              "          google.colab.kernel.accessAllowed ? 'block' : 'none';\n",
              "\n",
              "        async function convertToInteractive(key) {\n",
              "          const element = document.querySelector('#df-0339fcbb-15f4-45bf-b3f8-1830a32fbcb1');\n",
              "          const dataTable =\n",
              "            await google.colab.kernel.invokeFunction('convertToInteractive',\n",
              "                                                     [key], {});\n",
              "          if (!dataTable) return;\n",
              "\n",
              "          const docLinkHtml = 'Like what you see? Visit the ' +\n",
              "            '<a target=\"_blank\" href=https://colab.research.google.com/notebooks/data_table.ipynb>data table notebook</a>'\n",
              "            + ' to learn more about interactive tables.';\n",
              "          element.innerHTML = '';\n",
              "          dataTable['output_type'] = 'display_data';\n",
              "          await google.colab.output.renderOutput(dataTable, element);\n",
              "          const docLink = document.createElement('div');\n",
              "          docLink.innerHTML = docLinkHtml;\n",
              "          element.appendChild(docLink);\n",
              "        }\n",
              "      </script>\n",
              "    </div>\n",
              "  </div>\n",
              "  "
            ]
          },
          "metadata": {},
          "execution_count": 27
        }
      ]
    },
    {
      "cell_type": "code",
      "source": [
        "df_resposta"
      ],
      "metadata": {
        "colab": {
          "base_uri": "https://localhost:8080/"
        },
        "id": "GdX5hEn8B7DC",
        "outputId": "b72f67d7-8979-45ab-ceec-922887d99a1a"
      },
      "execution_count": null,
      "outputs": [
        {
          "output_type": "execute_result",
          "data": {
            "text/plain": [
              "0          0\n",
              "1          0\n",
              "2          1\n",
              "3          0\n",
              "4          1\n",
              "          ..\n",
              "1999995    1\n",
              "1999996    1\n",
              "1999997    0\n",
              "1999998    0\n",
              "1999999    0\n",
              "Name: acertou, Length: 1994846, dtype: int64"
            ]
          },
          "metadata": {},
          "execution_count": 28
        }
      ]
    },
    {
      "cell_type": "markdown",
      "source": [
        "##4- Pré Processamento\n",
        "Modelando dados para entrarem no modelo"
      ],
      "metadata": {
        "id": "fVg5zs_3CHhV"
      }
    },
    {
      "cell_type": "code",
      "source": [
        "scaler = sklearn.preprocessing.MinMaxScaler()\n",
        "X = df_model.to_numpy()\n",
        "Y = df_resposta.to_numpy()\n",
        "X = scaler.fit_transform(X)\n",
        "X"
      ],
      "metadata": {
        "colab": {
          "base_uri": "https://localhost:8080/"
        },
        "id": "gQET3-9SCGYF",
        "outputId": "a8d6db7d-c2be-4552-a03c-5b56d10ca44c"
      },
      "execution_count": null,
      "outputs": [
        {
          "output_type": "execute_result",
          "data": {
            "text/plain": [
              "array([[1.        , 0.8       , 0.        , ..., 0.5       , 0.66666667,\n",
              "        0.97744326],\n",
              "       [1.        , 0.8       , 0.        , ..., 0.5       , 0.66666667,\n",
              "        0.97744127],\n",
              "       [1.        , 0.8       , 0.        , ..., 0.5       , 0.66666667,\n",
              "        0.97743927],\n",
              "       ...,\n",
              "       [1.        , 0.88      , 0.        , ..., 0.5       , 1.        ,\n",
              "        0.86401048],\n",
              "       [1.        , 0.88      , 0.        , ..., 0.5       , 1.        ,\n",
              "        0.86067311],\n",
              "       [1.        , 0.88      , 0.        , ..., 0.5       , 1.        ,\n",
              "        0.85673057]])"
            ]
          },
          "metadata": {},
          "execution_count": 29
        }
      ]
    },
    {
      "cell_type": "code",
      "source": [
        "print(X.shape,Y.shape)"
      ],
      "metadata": {
        "colab": {
          "base_uri": "https://localhost:8080/"
        },
        "id": "DNnuXICeCxN2",
        "outputId": "4bbc8887-8927-4cb1-93b5-aa9530b55db4"
      },
      "execution_count": null,
      "outputs": [
        {
          "output_type": "stream",
          "name": "stdout",
          "text": [
            "(1994846, 15) (1994846,)\n"
          ]
        }
      ]
    },
    {
      "cell_type": "code",
      "source": [
        "X_train, X_test, y_train, y_test = train_test_split(X, Y, test_size=0.25, random_state= 0)\n",
        "print('X_train:',np.shape(X_train))\n",
        "print('y_train:',np.shape(y_train))\n",
        "print('X_test:',np.shape(X_test))\n",
        "print('y_test:',np.shape(y_test))"
      ],
      "metadata": {
        "colab": {
          "base_uri": "https://localhost:8080/"
        },
        "id": "7vKnrf_QC7fw",
        "outputId": "e2a5fe38-d17b-4df6-acf6-e9c9b483aac4"
      },
      "execution_count": null,
      "outputs": [
        {
          "output_type": "stream",
          "name": "stdout",
          "text": [
            "X_train: (1496134, 15)\n",
            "y_train: (1496134,)\n",
            "X_test: (498712, 15)\n",
            "y_test: (498712,)\n"
          ]
        }
      ]
    },
    {
      "cell_type": "markdown",
      "source": [
        "##-5 Definindo Modelo"
      ],
      "metadata": {
        "id": "zzHs0wXrOe1z"
      }
    },
    {
      "cell_type": "code",
      "source": [
        "import numpy as np\n",
        "import pandas as pd\n",
        "import matplotlib.pyplot as plt\n",
        "import seaborn as sns\n",
        "from sklearn.ensemble import RandomForestClassifier\n",
        "from sklearn import metrics\n",
        "from sklearn.model_selection import train_test_split\n",
        "from sklearn.ensemble import RandomForestClassifier\n",
        "from sklearn.metrics import accuracy_score, confusion_matrix, classification_report\n",
        "from sklearn.datasets import load_boston"
      ],
      "metadata": {
        "id": "iSg_-G2XDagg"
      },
      "execution_count": null,
      "outputs": []
    },
    {
      "cell_type": "code",
      "source": [
        "clf=RandomForestClassifier(n_estimators=100)"
      ],
      "metadata": {
        "id": "UZfcbOAqESa-"
      },
      "execution_count": null,
      "outputs": []
    },
    {
      "cell_type": "code",
      "source": [
        "clf.fit(X_train,y_train)"
      ],
      "metadata": {
        "colab": {
          "base_uri": "https://localhost:8080/"
        },
        "id": "sDl_Dp0tFxjE",
        "outputId": "645e75cd-1bec-4eec-99eb-be00b8118cb3"
      },
      "execution_count": null,
      "outputs": [
        {
          "output_type": "execute_result",
          "data": {
            "text/plain": [
              "RandomForestClassifier()"
            ]
          },
          "metadata": {},
          "execution_count": 34
        }
      ]
    },
    {
      "cell_type": "code",
      "source": [
        "y_pred=clf.predict(X_test)"
      ],
      "metadata": {
        "id": "W3TRQjABHqU9"
      },
      "execution_count": null,
      "outputs": []
    },
    {
      "cell_type": "code",
      "source": [
        "matrix = confusion_matrix(y_test, y_pred)\n",
        "matrix = matrix.astype('float') / matrix.sum(axis=1)[:, np.newaxis]\n",
        "\n",
        "plt.figure(figsize=(16,7))\n",
        "sns.set(font_scale=1.4)\n",
        "sns.heatmap(matrix, annot=True, annot_kws={'size':10},\n",
        "            cmap=plt.cm.Greens, linewidths=0.2)\n",
        "\n",
        "# Add labels to the plot\n",
        "class_names = ['Spruce/Fir', 'Lodgepole Pine']\n",
        "tick_marks = np.arange(len(class_names))\n",
        "tick_marks2 = tick_marks + 0.5\n",
        "plt.xticks(tick_marks, class_names, rotation=25)\n",
        "plt.yticks(tick_marks2, class_names, rotation=0)\n",
        "plt.xlabel('Predicted label')\n",
        "plt.ylabel('True label')\n",
        "plt.title('Confusion Matrix for Random Forest Model')\n",
        "plt.show()"
      ],
      "metadata": {
        "colab": {
          "base_uri": "https://localhost:8080/",
          "height": 526
        },
        "id": "dp2_rHEdNhe8",
        "outputId": "a2ece089-1e4c-47d3-fec8-28b2ee4901b1"
      },
      "execution_count": null,
      "outputs": [
        {
          "output_type": "display_data",
          "data": {
            "text/plain": [
              "<Figure size 1152x504 with 2 Axes>"
            ],
            "image/png": "[encoded data removed]"
          },
          "metadata": {}
        }
      ]
    },
    {
      "cell_type": "code",
      "source": [
        "print(\"Accuracy:\",metrics.accuracy_score(y_test, y_pred))"
      ],
      "metadata": {
        "colab": {
          "base_uri": "https://localhost:8080/"
        },
        "id": "G2o8_JCwHgr8",
        "outputId": "d2bee3a5-7eeb-4fef-b5ae-ed7233e8daa4"
      },
      "execution_count": null,
      "outputs": [
        {
          "output_type": "stream",
          "name": "stdout",
          "text": [
            "Accuracy: 0.6225697396493367\n"
          ]
        }
      ]
    },
    {
      "cell_type": "code",
      "source": [
        "print(classification_report(y_test, y_pred))"
      ],
      "metadata": {
        "colab": {
          "base_uri": "https://localhost:8080/"
        },
        "id": "9QIyHu6NOmwU",
        "outputId": "f2b592aa-ab4e-4445-d3ce-2fa3cc40d208"
      },
      "execution_count": null,
      "outputs": [
        {
          "output_type": "stream",
          "name": "stdout",
          "text": [
            "              precision    recall  f1-score   support\n",
            "\n",
            "           0       0.45      0.39      0.42    172416\n",
            "           1       0.70      0.74      0.72    326296\n",
            "\n",
            "    accuracy                           0.62    498712\n",
            "   macro avg       0.57      0.57      0.57    498712\n",
            "weighted avg       0.61      0.62      0.62    498712\n",
            "\n"
          ]
        }
      ]
    },
    {
      "cell_type": "code",
      "source": [
        "clf.feature_importances_"
      ],
      "metadata": {
        "colab": {
          "base_uri": "https://localhost:8080/"
        },
        "id": "TPA2A5yHig18",
        "outputId": "c17a033a-92c4-4823-bc49-2ef0448eac68"
      },
      "execution_count": null,
      "outputs": [
        {
          "output_type": "execute_result",
          "data": {
            "text/plain": [
              "array([1.85500907e-02, 1.58354382e-01, 1.42768483e-04, 2.00154392e-04,\n",
              "       1.98699940e-02, 1.75728643e-04, 4.89275633e-03, 6.42280154e-03,\n",
              "       1.11269578e-01, 6.53187807e-02, 1.87959809e-01, 2.23167765e-02,\n",
              "       6.94886723e-03, 8.36164870e-03, 3.89215864e-01])"
            ]
          },
          "metadata": {},
          "execution_count": 45
        }
      ]
    },
    {
      "cell_type": "code",
      "source": [
        "plt.barh(df_model.columns, clf.feature_importances_)"
      ],
      "metadata": {
        "colab": {
          "base_uri": "https://localhost:8080/",
          "height": 291
        },
        "id": "C8N3O3KNiTQW",
        "outputId": "809f0f4b-1531-4a7c-fdc5-efc552171278"
      },
      "execution_count": null,
      "outputs": [
        {
          "output_type": "execute_result",
          "data": {
            "text/plain": [
              "<BarContainer object of 15 artists>"
            ]
          },
          "metadata": {},
          "execution_count": 48
        },
        {
          "output_type": "display_data",
          "data": {
            "text/plain": [
              "<Figure size 432x288 with 1 Axes>"
            ],
            "image/png": "[encoded data removed]"
          },
          "metadata": {}
        }
      ]
    }
  ]
}